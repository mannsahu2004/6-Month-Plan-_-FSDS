{
 "cells": [
  {
   "cell_type": "markdown",
   "id": "89a2f4e6-4c62-427f-b720-3a503dc58877",
   "metadata": {},
   "source": [
    "# PRINTING PATTERNS IN PYTHON"
   ]
  },
  {
   "cell_type": "code",
   "execution_count": 1,
   "id": "9ec4e96a-7a64-4228-aace-839264d73c39",
   "metadata": {},
   "outputs": [
    {
     "name": "stdout",
     "output_type": "stream",
     "text": [
      "####\n",
      "####\n",
      "####\n",
      "####\n"
     ]
    }
   ],
   "source": [
    "print('####')\n",
    "print('####')\n",
    "print('####')\n",
    "print('####')"
   ]
  },
  {
   "cell_type": "code",
   "execution_count": 5,
   "id": "0ecfd2c6-87c6-4175-a5cd-bef6e009a587",
   "metadata": {},
   "outputs": [
    {
     "name": "stdout",
     "output_type": "stream",
     "text": [
      "# # # #\n",
      "# # # #\n",
      "# # # #\n",
      "# # # #\n"
     ]
    }
   ],
   "source": [
    "for i in range(1,5):\n",
    "    i = i+1\n",
    "    print('# # # #')"
   ]
  },
  {
   "cell_type": "code",
   "execution_count": 6,
   "id": "7d1152a1-85c7-4210-9e05-6450ac5c4450",
   "metadata": {},
   "outputs": [
    {
     "name": "stdout",
     "output_type": "stream",
     "text": [
      "# # # #\n",
      "# # # #\n",
      "# # # #\n",
      "# # # #\n"
     ]
    }
   ],
   "source": [
    "for i in range(1,5):\n",
    "    if i<=5:\n",
    "        print('# # # #')"
   ]
  },
  {
   "cell_type": "code",
   "execution_count": 7,
   "id": "fae93a13-be9b-4187-8852-904b98d6f457",
   "metadata": {},
   "outputs": [
    {
     "name": "stdout",
     "output_type": "stream",
     "text": [
      "#\n",
      "#\n",
      "#\n",
      "#\n"
     ]
    }
   ],
   "source": [
    "for j in range(4):\n",
    "    print('#')"
   ]
  },
  {
   "cell_type": "code",
   "execution_count": 8,
   "id": "5db4ceb4-5544-407f-8869-e3ce64096945",
   "metadata": {},
   "outputs": [
    {
     "name": "stdout",
     "output_type": "stream",
     "text": [
      "# # # #\n",
      "# # # #\n",
      "# # # #\n",
      "# # # #\n"
     ]
    }
   ],
   "source": [
    "for j in range(4):\n",
    "    print('# # # #')"
   ]
  },
  {
   "cell_type": "code",
   "execution_count": 10,
   "id": "56b3cba9-c552-4f7a-ae49-c652a0ebcdcb",
   "metadata": {},
   "outputs": [
    {
     "name": "stdout",
     "output_type": "stream",
     "text": [
      "# # # # "
     ]
    }
   ],
   "source": [
    "for j in range(4):\n",
    "    print('#', end = \" \")"
   ]
  },
  {
   "cell_type": "code",
   "execution_count": 11,
   "id": "5874ca41-d96e-4f55-a2a5-f2eb8bd24d46",
   "metadata": {},
   "outputs": [
    {
     "name": "stdout",
     "output_type": "stream",
     "text": [
      "# # # # # # # # "
     ]
    }
   ],
   "source": [
    "for j in range(4):\n",
    "    print('#', end=\" \")\n",
    "\n",
    "for j in range(4):\n",
    "    print('#', end=\" \")\n"
   ]
  },
  {
   "cell_type": "code",
   "execution_count": 12,
   "id": "c2df28e5-361c-48a2-8e27-44d64ee40c0d",
   "metadata": {},
   "outputs": [
    {
     "name": "stdout",
     "output_type": "stream",
     "text": [
      "# # # # \n",
      "# # # # "
     ]
    }
   ],
   "source": [
    "for j in range(4):\n",
    "    print('#', end=\" \")\n",
    "    \n",
    "print()\n",
    "    \n",
    "for j in range(4):\n",
    "    print('#', end=\" \")"
   ]
  },
  {
   "cell_type": "code",
   "execution_count": 13,
   "id": "36c1a9d4-65ed-48a4-bdf4-d09d46c2e4e7",
   "metadata": {},
   "outputs": [
    {
     "name": "stdout",
     "output_type": "stream",
     "text": [
      "#  #  #  #  \n",
      "#  #  #  #  \n",
      "#  #  #  #  \n",
      "#  #  #  #  "
     ]
    }
   ],
   "source": [
    "for j in range(4):\n",
    "    print('#', end=\"  \")\n",
    "    \n",
    "print()\n",
    "\n",
    "for j in range(4):\n",
    "    print('#', end=\"  \")\n",
    "\n",
    "print()\n",
    "\n",
    "for j in range(4):\n",
    "    print('#', end=\"  \")\n",
    "    \n",
    "print()\n",
    "\n",
    "for j in range(4):\n",
    "    print('#', end=\"  \")"
   ]
  },
  {
   "cell_type": "code",
   "execution_count": 14,
   "id": "c40f2539-4d02-4090-920c-0d3990bd414d",
   "metadata": {},
   "outputs": [
    {
     "name": "stdout",
     "output_type": "stream",
     "text": [
      "#  #  #  #  \n",
      "#  #  #  #  \n",
      "#  #  #  #  \n",
      "#  #  #  #  \n"
     ]
    }
   ],
   "source": [
    "for i in range(4):\n",
    "    for j in range(4):\n",
    "        print('#', end=\"  \")\n",
    "    print()"
   ]
  },
  {
   "cell_type": "code",
   "execution_count": 15,
   "id": "fb6404f9-a735-48d2-9d96-9454cdede6b7",
   "metadata": {},
   "outputs": [
    {
     "name": "stdout",
     "output_type": "stream",
     "text": [
      "# \n",
      "# # \n",
      "# # # \n",
      "# # # # \n"
     ]
    }
   ],
   "source": [
    "for i in range(4):\n",
    "    for j in range(i+1):\n",
    "        print('#', end = \" \")\n",
    "    print()"
   ]
  },
  {
   "cell_type": "code",
   "execution_count": 16,
   "id": "866927cc-83df-45bd-aeca-46ac04039231",
   "metadata": {},
   "outputs": [
    {
     "name": "stdout",
     "output_type": "stream",
     "text": [
      "# \n",
      "# # \n",
      "# # # \n",
      "# # # # \n"
     ]
    }
   ],
   "source": [
    "for i in range(1,5):\n",
    "    print(\"# \"*i)"
   ]
  },
  {
   "cell_type": "code",
   "execution_count": 17,
   "id": "9b376fdf-334b-4771-a403-9f8c94abbd49",
   "metadata": {},
   "outputs": [
    {
     "name": "stdout",
     "output_type": "stream",
     "text": [
      "# \n",
      "# # \n",
      "# # # \n",
      "# # # # \n"
     ]
    }
   ],
   "source": [
    "for i in range(1,5):\n",
    "    for j in range(4):\n",
    "        if i>j:\n",
    "            print(\"#\",end=\" \")\n",
    "    print()"
   ]
  },
  {
   "cell_type": "code",
   "execution_count": 18,
   "id": "4099e3a1-e81e-4e39-9213-4bde0ab79c50",
   "metadata": {},
   "outputs": [
    {
     "data": {
      "text/plain": [
       "[0, 1, 2, 3, 4]"
      ]
     },
     "execution_count": 18,
     "metadata": {},
     "output_type": "execute_result"
    }
   ],
   "source": [
    "list(range(5))"
   ]
  },
  {
   "cell_type": "code",
   "execution_count": 19,
   "id": "682c8af6-d5be-4d1f-9ff2-2b0e4c7b1173",
   "metadata": {},
   "outputs": [
    {
     "name": "stdout",
     "output_type": "stream",
     "text": [
      "\n",
      "#  \n",
      "#  #  \n",
      "#  #  #  \n"
     ]
    }
   ],
   "source": [
    "for i in range(4):\n",
    "    for j in range(i):\n",
    "        print('#', end=\"  \")\n",
    "    print()"
   ]
  },
  {
   "cell_type": "code",
   "execution_count": 20,
   "id": "a0e85e11-664e-49a2-a7b9-a888bb7bd37e",
   "metadata": {},
   "outputs": [
    {
     "name": "stdout",
     "output_type": "stream",
     "text": [
      "#  \n",
      "#  #  \n",
      "#  #  #  \n",
      "#  #  #  #  \n"
     ]
    }
   ],
   "source": [
    "for i in range(4):\n",
    "    for j in range(i+1):\n",
    "        print('#', end=\"  \")\n",
    "    print()"
   ]
  },
  {
   "cell_type": "code",
   "execution_count": null,
   "id": "bbd3a520-8a1f-4a59-88bf-3fbfa9a84c22",
   "metadata": {},
   "outputs": [],
   "source": []
  }
 ],
 "metadata": {
  "kernelspec": {
   "display_name": "Python [conda env:base] *",
   "language": "python",
   "name": "conda-base-py"
  },
  "language_info": {
   "codemirror_mode": {
    "name": "ipython",
    "version": 3
   },
   "file_extension": ".py",
   "mimetype": "text/x-python",
   "name": "python",
   "nbconvert_exporter": "python",
   "pygments_lexer": "ipython3",
   "version": "3.12.7"
  }
 },
 "nbformat": 4,
 "nbformat_minor": 5
}
