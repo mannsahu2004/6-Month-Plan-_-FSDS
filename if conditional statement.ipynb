{
 "cells": [
  {
   "cell_type": "markdown",
   "id": "8e47fe40-abd5-4a01-86f6-90a8ac6be3e3",
   "metadata": {},
   "source": [
    "If Conditional Statement"
   ]
  },
  {
   "cell_type": "code",
   "execution_count": null,
   "id": "9b413229-95d2-4fcc-a72c-8236e6b53e5e",
   "metadata": {},
   "outputs": [],
   "source": [
    "def friends_in_trouble(j_angry , s_angry):\n",
    "    if(j_angry and s_angry) or (not j_angry and s_angry):\n",
    "        return 'True'\n",
    "    else:\n",
    "        return 'False'\n",
    "print(friends_in_trouble(True, True))"
   ]
  },
  {
   "cell_type": "code",
   "execution_count": 13,
   "id": "de997864-47b7-4a72-a827-a9794eaac4f5",
   "metadata": {},
   "outputs": [
    {
     "name": "stdout",
     "output_type": "stream",
     "text": [
      "False\n"
     ]
    }
   ],
   "source": [
    "def friends_in_trouble(j_angry , s_angry):\n",
    "    if(j_angry and s_angry) or (not j_angry and s_angry):\n",
    "        return 'True'\n",
    "    else:\n",
    "        return 'False'\n",
    "        \n",
    "print(friends_in_trouble(True,False))"
   ]
  },
  {
   "cell_type": "markdown",
   "id": "250e4c8a-1cbb-4339-ba1f-0ad1fd1aebe3",
   "metadata": {},
   "source": [
    "Mark Even and Odd"
   ]
  },
  {
   "cell_type": "code",
   "execution_count": 12,
   "id": "ef3c76aa-c5b3-4f0a-b839-3a46a77387b2",
   "metadata": {},
   "outputs": [
    {
     "name": "stdout",
     "output_type": "stream",
     "text": [
      "True\n"
     ]
    }
   ],
   "source": [
    "def checkOddEven(x):\n",
    "    if(x%2==0):\n",
    "        return('True')\n",
    "    else:\n",
    "        return('False')\n",
    "\n",
    "print(checkOddEven(4))"
   ]
  },
  {
   "cell_type": "markdown",
   "id": "99d93dc1-198f-426d-8200-69ff3a9e5656",
   "metadata": {},
   "source": [
    "Check the status"
   ]
  },
  {
   "cell_type": "code",
   "execution_count": 20,
   "id": "51bb3690-0eeb-4fed-a0ae-b0496416c811",
   "metadata": {},
   "outputs": [
    {
     "name": "stdout",
     "output_type": "stream",
     "text": [
      "False\n"
     ]
    }
   ],
   "source": [
    "def checkStatus(a, b, flag):\n",
    "        if ((a>=0) != (b>=0)) and flag == False:\n",
    "            return 'True'\n",
    "        elif(a<0 and b<0) and flag == True:\n",
    "            return 'False'\n",
    "        else:\n",
    "             return 'False'\n",
    "\n",
    "print(checkStatus(-5,  -3, False))"
   ]
  },
  {
   "cell_type": "code",
   "execution_count": null,
   "id": "5291c336-39a7-4ddf-9aed-f0777619442e",
   "metadata": {},
   "outputs": [],
   "source": []
  }
 ],
 "metadata": {
  "kernelspec": {
   "display_name": "Python [conda env:base] *",
   "language": "python",
   "name": "conda-base-py"
  },
  "language_info": {
   "codemirror_mode": {
    "name": "ipython",
    "version": 3
   },
   "file_extension": ".py",
   "mimetype": "text/x-python",
   "name": "python",
   "nbconvert_exporter": "python",
   "pygments_lexer": "ipython3",
   "version": "3.12.7"
  }
 },
 "nbformat": 4,
 "nbformat_minor": 5
}
