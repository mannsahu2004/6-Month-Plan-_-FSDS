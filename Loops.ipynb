{
 "cells": [
  {
   "cell_type": "markdown",
   "id": "c8ec6cf3-a612-4f12-9957-16516cc73be9",
   "metadata": {},
   "source": [
    "Loops"
   ]
  },
  {
   "cell_type": "code",
   "execution_count": 1,
   "id": "970c934d-356a-4512-9e98-de937477789c",
   "metadata": {},
   "outputs": [
    {
     "name": "stdout",
     "output_type": "stream",
     "text": [
      "data science\n",
      "data science\n",
      "data science\n",
      "data science\n"
     ]
    }
   ],
   "source": [
    "print('data science')\n",
    "print('data science')\n",
    "print('data science')\n",
    "print('data science')"
   ]
  },
  {
   "cell_type": "code",
   "execution_count": 2,
   "id": "a5c3c42a-1e30-4100-bcb0-d1b659bc365f",
   "metadata": {},
   "outputs": [
    {
     "name": "stdout",
     "output_type": "stream",
     "text": [
      "data science\n",
      "data science\n",
      "data science\n",
      "data science\n",
      "data science\n"
     ]
    }
   ],
   "source": [
    "i=1             #initializing\n",
    "while i<=5:     #condition\n",
    "    print('data science')\n",
    "    i=i+1       #increment"
   ]
  },
  {
   "cell_type": "code",
   "execution_count": 8,
   "id": "d06518ac-f74b-4a48-a609-b95713139ab0",
   "metadata": {},
   "outputs": [
    {
     "name": "stdout",
     "output_type": "stream",
     "text": [
      "data science\n",
      "data science\n",
      "data science\n",
      "data science\n",
      "data science\n"
     ]
    }
   ],
   "source": [
    "i=5\n",
    "while i>=1:\n",
    "    print('data science')\n",
    "    i=i-1"
   ]
  },
  {
   "cell_type": "code",
   "execution_count": 10,
   "id": "bc4f968e-a362-41d9-ae44-478be9e7cbaf",
   "metadata": {},
   "outputs": [
    {
     "name": "stdout",
     "output_type": "stream",
     "text": [
      "data scinece:  1\n",
      "data scinece:  2\n",
      "data scinece:  3\n",
      "data scinece:  4\n",
      "data scinece:  5\n"
     ]
    }
   ],
   "source": [
    "i = 1           #initializing\n",
    "while i<=5:      #condition\n",
    "    print('data scinece: ', i)\n",
    "    i = i+1     #increment"
   ]
  },
  {
   "cell_type": "code",
   "execution_count": 13,
   "id": "fab8ad6d-4cba-4a6b-8b9e-ff04ed34ca22",
   "metadata": {},
   "outputs": [
    {
     "name": "stdout",
     "output_type": "stream",
     "text": [
      "data science : 5\n",
      "data science : 4\n",
      "data science : 3\n",
      "data science : 2\n",
      "data science : 1\n"
     ]
    }
   ],
   "source": [
    "i = 5           # intializing\n",
    "while i>=1:     # condition\n",
    "    print('data science :',i)\n",
    "    i = i-1     # decrement"
   ]
  },
  {
   "cell_type": "code",
   "execution_count": 14,
   "id": "67e89015-8d67-47b7-95de-01a1ee6c5395",
   "metadata": {},
   "outputs": [
    {
     "name": "stdout",
     "output_type": "stream",
     "text": [
      "data science\n",
      "technology\n",
      "technology\n",
      "technology\n",
      "technology\n",
      "\n",
      "data science\n",
      "technology\n",
      "technology\n",
      "technology\n",
      "technology\n",
      "\n",
      "data science\n",
      "technology\n",
      "technology\n",
      "technology\n",
      "technology\n",
      "\n",
      "data science\n",
      "technology\n",
      "technology\n",
      "technology\n",
      "technology\n",
      "\n",
      "data science\n",
      "technology\n",
      "technology\n",
      "technology\n",
      "technology\n",
      "\n"
     ]
    }
   ],
   "source": [
    "i = 1\n",
    "\n",
    "while i<=5:\n",
    "    print('data science')# when we mwntion and then new line will not create \n",
    "    j = 1\n",
    "    while j<=4:\n",
    "        print('technology')\n",
    "        j=j+1\n",
    "\n",
    "    i = i+1\n",
    "    print()\n",
    "    "
   ]
  },
  {
   "cell_type": "code",
   "execution_count": 18,
   "id": "ee176c79-9bd9-416a-aaba-9125cfd9883d",
   "metadata": {},
   "outputs": [
    {
     "name": "stdout",
     "output_type": "stream",
     "text": [
      "0  1  2  \n",
      "0  2  4  \n"
     ]
    }
   ],
   "source": [
    "# lets use while loop using sssome members\n",
    "i=1\n",
    "\n",
    "while i <= 2:\n",
    "    j=0\n",
    "    while j <= 2:\n",
    "        print(i*j, end=\"  \")\n",
    "        j += 1\n",
    "    print()\n",
    "    i += 1"
   ]
  },
  {
   "cell_type": "code",
   "execution_count": 19,
   "id": "4462b2fb-801d-4f97-8f26-d1eb7f6f87aa",
   "metadata": {},
   "outputs": [
    {
     "name": "stdout",
     "output_type": "stream",
     "text": [
      "0 1 2 3 \n",
      "0 2 4 6 \n",
      "0 3 6 9 \n",
      "0 4 8 12 \n"
     ]
    }
   ],
   "source": [
    "# lets use while loop using some numbers \n",
    "i = 1\n",
    "while i <= 4:\n",
    "    j = 0\n",
    "    while j<= 3:\n",
    "        print(i*j, end=\" \")\n",
    "        j += 1\n",
    "    print()\n",
    "    i += 1"
   ]
  },
  {
   "cell_type": "markdown",
   "id": "9f3d530c-f265-45b5-9b4d-2a11d40bb3ac",
   "metadata": {},
   "source": [
    "For LOOP - normally while loop it work with iteration or creation some condition but for  loop it will work with sequence(list, string, list)"
   ]
  },
  {
   "cell_type": "code",
   "execution_count": 2,
   "id": "726083f6-a37d-4a1e-8ff0-30af36036234",
   "metadata": {},
   "outputs": [
    {
     "name": "stdout",
     "output_type": "stream",
     "text": [
      "n\n",
      "i\n",
      "t\n"
     ]
    }
   ],
   "source": [
    "name = 'nit'\n",
    "\n",
    "for i in name:\n",
    "    print(i)"
   ]
  },
  {
   "cell_type": "code",
   "execution_count": 3,
   "id": "c31fc384-164e-4a15-826f-478b2cfe8e57",
   "metadata": {},
   "outputs": [
    {
     "name": "stdout",
     "output_type": "stream",
     "text": [
      "1\n",
      "3.5\n",
      "hello\n"
     ]
    }
   ],
   "source": [
    "name1 = [1,3.5,'hello'] # i want print the value individually\n",
    "\n",
    "for i in name1:\n",
    "    print(i)"
   ]
  },
  {
   "cell_type": "code",
   "execution_count": 4,
   "id": "e6b4cdd4-7602-478b-9126-99f940abf93a",
   "metadata": {},
   "outputs": [
    {
     "name": "stdout",
     "output_type": "stream",
     "text": [
      "2\n",
      "3\n",
      "7.8\n",
      "hi\n"
     ]
    }
   ],
   "source": [
    "for i in [2,3,7.8,'hi']:\n",
    "    print(i)"
   ]
  },
  {
   "cell_type": "code",
   "execution_count": 5,
   "id": "8bb3a7cf-5f80-4644-af5b-c1dba3200cc7",
   "metadata": {},
   "outputs": [
    {
     "data": {
      "text/plain": [
       "range(0, 5)"
      ]
     },
     "execution_count": 5,
     "metadata": {},
     "output_type": "execute_result"
    }
   ],
   "source": [
    "range(5)"
   ]
  },
  {
   "cell_type": "code",
   "execution_count": 6,
   "id": "cfcc003c-25f4-48bd-aa2e-98a853aa43b1",
   "metadata": {},
   "outputs": [
    {
     "name": "stdout",
     "output_type": "stream",
     "text": [
      "0\n",
      "1\n",
      "2\n",
      "3\n",
      "4\n"
     ]
    }
   ],
   "source": [
    "for i in range(5):\n",
    "    print(i)"
   ]
  },
  {
   "cell_type": "code",
   "execution_count": 7,
   "id": "051542a9-e7f8-4b93-a716-0351142409d5",
   "metadata": {},
   "outputs": [
    {
     "name": "stdout",
     "output_type": "stream",
     "text": [
      "2\n",
      "3\n",
      "4\n"
     ]
    }
   ],
   "source": [
    "for i in range(2,5):\n",
    "    print(i)"
   ]
  },
  {
   "cell_type": "code",
   "execution_count": 8,
   "id": "b24134c3-d37b-4967-858c-63c2dbf405ac",
   "metadata": {},
   "outputs": [
    {
     "name": "stdout",
     "output_type": "stream",
     "text": [
      "1\n",
      "4\n",
      "7\n"
     ]
    }
   ],
   "source": [
    "for i in range(1,10,3):\n",
    "    print(i)"
   ]
  },
  {
   "cell_type": "code",
   "execution_count": 9,
   "id": "13432651-9028-488f-8bb4-edc72dfd07e3",
   "metadata": {},
   "outputs": [
    {
     "name": "stdout",
     "output_type": "stream",
     "text": [
      "1\n",
      "2\n",
      "3\n",
      "4\n",
      "5\n",
      "6\n",
      "7\n",
      "8\n",
      "9\n",
      "10\n",
      "11\n",
      "12\n",
      "13\n",
      "14\n",
      "15\n",
      "16\n",
      "17\n",
      "18\n",
      "19\n",
      "20\n"
     ]
    }
   ],
   "source": [
    "for i in range(1,21):\n",
    "    print(i)"
   ]
  },
  {
   "cell_type": "code",
   "execution_count": 10,
   "id": "df260d2c-f994-4dc0-94cf-f0d6b747a35e",
   "metadata": {},
   "outputs": [
    {
     "name": "stdout",
     "output_type": "stream",
     "text": [
      "5\n",
      "10\n",
      "15\n",
      "20\n",
      "25\n",
      "30\n",
      "35\n",
      "40\n",
      "45\n",
      "50\n"
     ]
    }
   ],
   "source": [
    "# print the value which is divisible by 5 \n",
    "for i in range(1,51):\n",
    "\n",
    "    if i%5==0:\n",
    "        print(i)"
   ]
  },
  {
   "cell_type": "code",
   "execution_count": 12,
   "id": "05ade71b-806e-485a-bbf1-9e668888311a",
   "metadata": {},
   "outputs": [
    {
     "name": "stdout",
     "output_type": "stream",
     "text": [
      "1\n",
      "2\n",
      "3\n",
      "4\n",
      "6\n",
      "7\n",
      "8\n",
      "9\n",
      "11\n",
      "12\n",
      "13\n",
      "14\n",
      "16\n",
      "17\n",
      "18\n",
      "19\n",
      "21\n",
      "22\n",
      "23\n",
      "24\n",
      "26\n",
      "27\n",
      "28\n",
      "29\n",
      "31\n",
      "32\n",
      "33\n",
      "34\n",
      "36\n",
      "37\n",
      "38\n",
      "39\n",
      "41\n",
      "42\n",
      "43\n",
      "44\n",
      "46\n",
      "47\n",
      "48\n",
      "49\n"
     ]
    }
   ],
   "source": [
    "# print the value which is divisible by 5 i dont want that value \n",
    "for i in range(1,51):\n",
    "\n",
    "    if i%5!=0:\n",
    "        print(i)"
   ]
  },
  {
   "cell_type": "markdown",
   "id": "ed29925e-c9ea-45ae-9c3d-5fdc120cc9bc",
   "metadata": {},
   "source": [
    "# Lets discuss about 3 keywords -- Break || Continue || Pass\n",
    "Break Sytatement - if you apply break  statement in a loop then it will end the loop  \n",
    "# Pass = skips block of code(function,class etc)\n",
    "# Continue = skips 1 step/iteration during loop\n",
    "# Break = jumps out of te fuunction/loop"
   ]
  },
  {
   "cell_type": "code",
   "execution_count": 15,
   "id": "df741d3b-37de-4ada-b525-6ae7c074302e",
   "metadata": {},
   "outputs": [
    {
     "ename": "IndentationError",
     "evalue": "unexpected indent (2410628877.py, line 6)",
     "output_type": "error",
     "traceback": [
      "\u001b[1;36m  Cell \u001b[1;32mIn[15], line 6\u001b[1;36m\u001b[0m\n\u001b[1;33m    while i<=x:\u001b[0m\n\u001b[1;37m    ^\u001b[0m\n\u001b[1;31mIndentationError\u001b[0m\u001b[1;31m:\u001b[0m unexpected indent\n"
     ]
    }
   ],
   "source": [
    "# write the code user ask choclet from vendor machine write the basic code \n",
    "\n",
    "x = int(input('How may chocklates youu want:?'))\n",
    "\n",
    "i = 1\n",
    "    while i<=x:\n",
    "        print('chocklet')\n",
    "        i+=1"
   ]
  },
  {
   "cell_type": "markdown",
   "id": "30448a6e-7e4e-4999-9ead-2a7e33921fea",
   "metadata": {},
   "source": [
    "If the user says i need 10 choclet but vending machine dont have 10 choclate & machine has only 5    choclate so what you do on those scenario\n",
    "- We have 3 choice now  (eiter stop the transaction by you or you can give only 5 choclate) & may be\n",
    "   vendor machine display the result as we are out of the stock\n",
    "- Now lets try in the code "
   ]
  },
  {
   "cell_type": "code",
   "execution_count": 16,
   "id": "e197eab5-df62-4dfd-a28f-0dc32c976443",
   "metadata": {},
   "outputs": [
    {
     "name": "stdin",
     "output_type": "stream",
     "text": [
      "How many Chocklates you want:? 1\n"
     ]
    },
    {
     "name": "stdout",
     "output_type": "stream",
     "text": [
      "chocklet\n"
     ]
    }
   ],
   "source": [
    "ava = 5 \n",
    "\n",
    "x = int(input('How many Chocklates you want:?'))\n",
    "\n",
    "i = 1\n",
    "while i<=x:\n",
    "    print('chocklet')\n",
    "    i+=1\n",
    "\n",
    "# if you check the user wants 10 choclets  but availabe choclet is 5 but we got output as 10 choclet\n",
    "# in this code we just declare but we dint apply any condition to it"
   ]
  },
  {
   "cell_type": "code",
   "execution_count": 17,
   "id": "4908b48d-4cd1-4372-9a8a-c2b022256fed",
   "metadata": {},
   "outputs": [
    {
     "name": "stdin",
     "output_type": "stream",
     "text": [
      "How many choclets you want:? 2\n"
     ]
    },
    {
     "name": "stdout",
     "output_type": "stream",
     "text": [
      "choclet\n",
      "choclet\n",
      "bye for now\n"
     ]
    }
   ],
   "source": [
    "available_choclet = 5 # the machine has only 10 candis \n",
    "\n",
    "x = int(input('How many choclets you want:?'))\n",
    "\n",
    "i = 1\n",
    "while i<=x:\n",
    "    \n",
    "    if i>available_choclet: # we stop the execution but which code execution not entire code , i want to come out of while loop \n",
    "        print('out of stock')\n",
    "        break # break is statement | means jump out of the loop\n",
    "    print('choclet')\n",
    "    i += 1   \n",
    "    \n",
    "print('bye for now')"
   ]
  },
  {
   "cell_type": "code",
   "execution_count": 18,
   "id": "cb2fdf03-815b-40f8-a192-aa38556972b4",
   "metadata": {},
   "outputs": [
    {
     "name": "stdout",
     "output_type": "stream",
     "text": [
      "1\n",
      "2\n",
      "3\n",
      "4\n",
      "5\n",
      "6\n",
      "7\n",
      "8\n",
      "9\n",
      "10\n"
     ]
    }
   ],
   "source": [
    "for i in range(1,11):\n",
    "    print(i)"
   ]
  },
  {
   "cell_type": "markdown",
   "id": "50b40481-bca5-4396-810f-0457226e55d2",
   "metadata": {},
   "source": [
    "i don't want 11 number i want only 5 number for the range of 1 to 10 "
   ]
  },
  {
   "cell_type": "code",
   "execution_count": 23,
   "id": "5aeba15e-3eb7-4a5a-b478-a7383c0cded2",
   "metadata": {},
   "outputs": [
    {
     "name": "stdout",
     "output_type": "stream",
     "text": [
      "1\n",
      "2\n",
      "3\n",
      "4\n",
      "5\n"
     ]
    }
   ],
   "source": [
    "for i in range(1,11):\n",
    "    if i == 6:\n",
    "        break;\n",
    "    print(i)"
   ]
  },
  {
   "cell_type": "markdown",
   "id": "c24ac4a5-409d-426c-bad0-2d10de054a1a",
   "metadata": {},
   "source": [
    "# in continue loop eant be terminate & exclude the assign number it give uyou enntire output "
   ]
  },
  {
   "cell_type": "code",
   "execution_count": 24,
   "id": "a521d687-2e4c-4519-ac3d-f827298248da",
   "metadata": {},
   "outputs": [
    {
     "name": "stdout",
     "output_type": "stream",
     "text": [
      "1\n",
      "2\n",
      "3\n",
      "4\n",
      "5\n",
      "7\n",
      "8\n",
      "9\n",
      "10\n"
     ]
    }
   ],
   "source": [
    "for i in range(1,11):\n",
    "    if i == 6:\n",
    "        continue\n",
    "    print(i)\n",
    "    "
   ]
  },
  {
   "cell_type": "code",
   "execution_count": 25,
   "id": "cb1feb27-f162-4a71-a49f-1c8cad9f0bb4",
   "metadata": {},
   "outputs": [
    {
     "name": "stdout",
     "output_type": "stream",
     "text": [
      "hello:  1\n",
      "hello:  2\n",
      "hello:  3\n",
      "hello:  4\n",
      "hello:  5\n",
      "hello:  7\n",
      "hello:  8\n",
      "hello:  9\n",
      "hello:  10\n"
     ]
    }
   ],
   "source": [
    "for i in range(1,11):\n",
    "    if i == 6:\n",
    "        continue\n",
    "    print('hello: ',i)"
   ]
  },
  {
   "cell_type": "markdown",
   "id": "55bf1f50-c4c9-4cc9-b780-785f6d0685c4",
   "metadata": {},
   "source": [
    "# PASS STATEMENT- pass the code & it want go (code give you the error)"
   ]
  },
  {
   "cell_type": "code",
   "execution_count": 26,
   "id": "25337a35-693b-4891-a6fd-589cb69497f7",
   "metadata": {},
   "outputs": [],
   "source": [
    "for i in range(1,11):\n",
    "    pass"
   ]
  },
  {
   "cell_type": "markdown",
   "id": "df42b3e1-e3b7-4b9d-aa9c-ad4a7c031d5e",
   "metadata": {},
   "source": [
    "## you need to print the number from 1 to 50 but dont print the number which is divisible by 3 or 5 \n"
   ]
  },
  {
   "cell_type": "code",
   "execution_count": 29,
   "id": "a05baa77-6812-48a8-971d-c63e45725595",
   "metadata": {},
   "outputs": [
    {
     "name": "stdout",
     "output_type": "stream",
     "text": [
      "3\n",
      "6\n",
      "9\n",
      "12\n",
      "15\n",
      "18\n",
      "21\n",
      "24\n",
      "27\n",
      "30\n",
      "33\n",
      "36\n",
      "39\n",
      "42\n",
      "45\n",
      "48\n",
      "end\n"
     ]
    }
   ],
   "source": [
    "for i in range(1,51):\n",
    "\n",
    "    if i%3 == 0:\n",
    "        print(i)\n",
    "print('end')"
   ]
  },
  {
   "cell_type": "code",
   "execution_count": 36,
   "id": "2a18f7fb-8a90-4685-980d-b82ea38ab9f6",
   "metadata": {},
   "outputs": [
    {
     "name": "stdout",
     "output_type": "stream",
     "text": [
      "end\n"
     ]
    }
   ],
   "source": [
    "for i in range(1,51):\n",
    "\n",
    "    if i%3 == 0:\n",
    "        continue\n",
    "        print(i)\n",
    "print('end')"
   ]
  },
  {
   "cell_type": "code",
   "execution_count": 37,
   "id": "b1455075-1a0a-4f61-83a1-1f49ea4e7c78",
   "metadata": {},
   "outputs": [
    {
     "name": "stdout",
     "output_type": "stream",
     "text": [
      "1\n",
      "2\n",
      "4\n",
      "7\n",
      "8\n",
      "11\n",
      "13\n",
      "14\n",
      "16\n",
      "17\n",
      "19\n",
      "22\n",
      "23\n",
      "26\n",
      "28\n",
      "29\n",
      "31\n",
      "32\n",
      "34\n",
      "37\n",
      "38\n",
      "41\n",
      "43\n",
      "44\n",
      "46\n",
      "47\n",
      "49\n"
     ]
    }
   ],
   "source": [
    "for i in range(1,51):\n",
    "\n",
    "    if i%3 == 0 or i%5 == 0:\n",
    "        continue\n",
    "    print(i)\n",
    "\n",
    "#print('end')\n",
    "# it will skip all the value which is divisible by 3 or 5 "
   ]
  },
  {
   "cell_type": "code",
   "execution_count": 38,
   "id": "8f802bf3-3549-4427-95cd-9dc7a1594f8d",
   "metadata": {},
   "outputs": [
    {
     "name": "stdout",
     "output_type": "stream",
     "text": [
      "1\n",
      "2\n",
      "4\n",
      "7\n",
      "8\n",
      "11\n",
      "13\n",
      "14\n",
      "16\n",
      "17\n",
      "19\n",
      "22\n",
      "23\n",
      "26\n",
      "28\n",
      "29\n",
      "31\n",
      "32\n",
      "34\n",
      "37\n",
      "38\n",
      "41\n",
      "43\n",
      "44\n",
      "46\n",
      "47\n",
      "49\n",
      "end\n"
     ]
    }
   ],
   "source": [
    "for i in range(1,51):\n",
    "    if i%3 == 0 or i%5 == 0:\n",
    "        continue\n",
    "    print(i)\n",
    "print('end')\n",
    "# when you apply and you wont get the value which is divisible by both 3 & 5"
   ]
  },
  {
   "cell_type": "code",
   "execution_count": null,
   "id": "a1db1931-8718-48a5-83c4-60590b49302d",
   "metadata": {},
   "outputs": [],
   "source": [
    "# I don't want to print the values which are even numbers that means print only odd numbers\n",
    "\n",
    "for i in range(1,51):\n",
    "\n",
    "    if(i%2  == 0):\n",
    "        continue:\n",
    "    else:\n",
    "        "
   ]
  }
 ],
 "metadata": {
  "kernelspec": {
   "display_name": "Python [conda env:base] *",
   "language": "python",
   "name": "conda-base-py"
  },
  "language_info": {
   "codemirror_mode": {
    "name": "ipython",
    "version": 3
   },
   "file_extension": ".py",
   "mimetype": "text/x-python",
   "name": "python",
   "nbconvert_exporter": "python",
   "pygments_lexer": "ipython3",
   "version": "3.12.7"
  }
 },
 "nbformat": 4,
 "nbformat_minor": 5
}
