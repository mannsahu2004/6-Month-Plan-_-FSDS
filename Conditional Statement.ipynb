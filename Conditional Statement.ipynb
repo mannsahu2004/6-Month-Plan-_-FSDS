{
 "cells": [
  {
   "cell_type": "code",
   "execution_count": 1,
   "id": "48817054-a39d-45be-b4c6-c0bdfb51b12b",
   "metadata": {},
   "outputs": [
    {
     "name": "stdout",
     "output_type": "stream",
     "text": [
      "Hello\n"
     ]
    }
   ],
   "source": [
    "if True:\n",
    "    print('Hello')"
   ]
  },
  {
   "cell_type": "code",
   "execution_count": 2,
   "id": "970c934d-356a-4512-9e98-de937477789c",
   "metadata": {},
   "outputs": [
    {
     "ename": "IndentationError",
     "evalue": "expected an indented block after 'if' statement on line 1 (2070047255.py, line 2)",
     "output_type": "error",
     "traceback": [
      "\u001b[1;36m  Cell \u001b[1;32mIn[2], line 2\u001b[1;36m\u001b[0m\n\u001b[1;33m    print('Hello')\u001b[0m\n\u001b[1;37m    ^\u001b[0m\n\u001b[1;31mIndentationError\u001b[0m\u001b[1;31m:\u001b[0m expected an indented block after 'if' statement on line 1\n"
     ]
    }
   ],
   "source": [
    "if True:\n",
    "print('Hello')"
   ]
  },
  {
   "cell_type": "code",
   "execution_count": 3,
   "id": "a5c3c42a-1e30-4100-bcb0-d1b659bc365f",
   "metadata": {},
   "outputs": [
    {
     "name": "stdout",
     "output_type": "stream",
     "text": [
      "Hello\n",
      "How are you\n"
     ]
    }
   ],
   "source": [
    "if True:\n",
    "    print('Hello')\n",
    "    print('How are you')"
   ]
  },
  {
   "cell_type": "code",
   "execution_count": 5,
   "id": "d06518ac-f74b-4a48-a609-b95713139ab0",
   "metadata": {},
   "outputs": [],
   "source": [
    "if False:\n",
    "    print('How are you')"
   ]
  },
  {
   "cell_type": "code",
   "execution_count": 1,
   "id": "bc4f968e-a362-41d9-ae44-478be9e7cbaf",
   "metadata": {},
   "outputs": [
    {
     "name": "stdout",
     "output_type": "stream",
     "text": [
      "Data science\n",
      "Bye for now\n"
     ]
    }
   ],
   "source": [
    "if True:\n",
    "    print('Data science')\n",
    "\n",
    "print('Bye for now')"
   ]
  },
  {
   "cell_type": "code",
   "execution_count": 2,
   "id": "fab8ad6d-4cba-4a6b-8b9e-ff04ed34ca22",
   "metadata": {},
   "outputs": [
    {
     "name": "stdout",
     "output_type": "stream",
     "text": [
      "Buy for now\n"
     ]
    }
   ],
   "source": [
    "if False:\n",
    "    print('Data science')\n",
    "\n",
    "print('Buy for now')"
   ]
  },
  {
   "cell_type": "code",
   "execution_count": 3,
   "id": "67e89015-8d67-47b7-95de-01a1ee6c5395",
   "metadata": {},
   "outputs": [
    {
     "name": "stdout",
     "output_type": "stream",
     "text": [
      "Data science\n"
     ]
    }
   ],
   "source": [
    "if True:\n",
    "    print('Data science')\n",
    "else:\n",
    "    print('Buy for now')"
   ]
  },
  {
   "cell_type": "code",
   "execution_count": 4,
   "id": "ee176c79-9bd9-416a-aaba-9125cfd9883d",
   "metadata": {},
   "outputs": [
    {
     "name": "stdout",
     "output_type": "stream",
     "text": [
      "Bye for now\n"
     ]
    }
   ],
   "source": [
    "if False:\n",
    "    print('Data science')\n",
    "else:\n",
    "    print('Bye for now')"
   ]
  },
  {
   "cell_type": "markdown",
   "id": "f88d804e-e56e-480e-9193-b833593d75c0",
   "metadata": {},
   "source": [
    "write python code to check whether number is even or odd"
   ]
  },
  {
   "cell_type": "code",
   "execution_count": 5,
   "id": "786e2591-43b9-469c-8ad5-55d607fc9895",
   "metadata": {},
   "outputs": [
    {
     "name": "stdout",
     "output_type": "stream",
     "text": [
      "Even number\n"
     ]
    }
   ],
   "source": [
    "x=4\n",
    "r=x%2\n",
    "if r==0:\n",
    "    print('Even number')"
   ]
  },
  {
   "cell_type": "code",
   "execution_count": 6,
   "id": "726083f6-a37d-4a1e-8ff0-30af36036234",
   "metadata": {},
   "outputs": [],
   "source": [
    "x=5\n",
    "r=x%2\n",
    "if r==0:\n",
    "    print('Even number')"
   ]
  },
  {
   "cell_type": "code",
   "execution_count": 7,
   "id": "c31fc384-164e-4a15-826f-478b2cfe8e57",
   "metadata": {},
   "outputs": [
    {
     "name": "stdout",
     "output_type": "stream",
     "text": [
      "Even number\n"
     ]
    }
   ],
   "source": [
    "x=6\n",
    "r=x%2\n",
    "if r==0:\n",
    "    print('Even number')\n",
    "\n",
    "if r==1:\n",
    "    print('Odd number')"
   ]
  },
  {
   "cell_type": "code",
   "execution_count": 8,
   "id": "e6b4cdd4-7602-478b-9126-99f940abf93a",
   "metadata": {},
   "outputs": [
    {
     "name": "stdout",
     "output_type": "stream",
     "text": [
      "Even number\n"
     ]
    }
   ],
   "source": [
    "x=6\n",
    "r=x%2\n",
    "if r==0:\n",
    "    print('Even number')\n",
    "\n",
    "else:\n",
    "    print('Odd number')"
   ]
  },
  {
   "cell_type": "code",
   "execution_count": 9,
   "id": "8bb3a7cf-5f80-4644-af5b-c1dba3200cc7",
   "metadata": {},
   "outputs": [
    {
     "name": "stdout",
     "output_type": "stream",
     "text": [
      "Even number\n",
      "Odd number\n"
     ]
    }
   ],
   "source": [
    "x=6\n",
    "r=x%2\n",
    "if r==0:\n",
    "    print('Even number')\n",
    "    print('Odd number')"
   ]
  },
  {
   "cell_type": "code",
   "execution_count": 10,
   "id": "cfcc003c-25f4-48bd-aa2e-98a853aa43b1",
   "metadata": {},
   "outputs": [
    {
     "name": "stdout",
     "output_type": "stream",
     "text": [
      "Even number\n"
     ]
    }
   ],
   "source": [
    "x=4 \n",
    "r=x%2\n",
    "\n",
    "if r==0:\n",
    "    print('Even number')\n",
    "else:\n",
    "    print('Odd number')"
   ]
  },
  {
   "cell_type": "code",
   "execution_count": 11,
   "id": "051542a9-e7f8-4b93-a716-0351142409d5",
   "metadata": {},
   "outputs": [
    {
     "name": "stdout",
     "output_type": "stream",
     "text": [
      "Odd number\n"
     ]
    }
   ],
   "source": [
    "x=5\n",
    "r=x%2\n",
    "\n",
    "if r==0: print('Even number')\n",
    "else: print('Odd number')"
   ]
  },
  {
   "cell_type": "code",
   "execution_count": 12,
   "id": "89f1a2fc-6b74-415c-8521-38bde6428b9d",
   "metadata": {},
   "outputs": [
    {
     "name": "stdout",
     "output_type": "stream",
     "text": [
      "Even number\n"
     ]
    }
   ],
   "source": [
    "x=10\n",
    "r=x%2 \n",
    "\n",
    "if r==0:\n",
    "    print('Even number')\n",
    "if r==1:\n",
    "    print('Odd number')"
   ]
  },
  {
   "cell_type": "code",
   "execution_count": 13,
   "id": "2dea70f0-f251-43fa-a732-6e4c62ed4ce3",
   "metadata": {
    "scrolled": true
   },
   "outputs": [
    {
     "name": "stdout",
     "output_type": "stream",
     "text": [
      "Odd number\n"
     ]
    }
   ],
   "source": [
    "x=9\n",
    "r=x%2\n",
    "\n",
    "if r==0:\n",
    "    print('Even number')\n",
    "\n",
    "if r!=0:\n",
    "    print('Odd number')"
   ]
  },
  {
   "cell_type": "markdown",
   "id": "04d48fce-3678-46aa-b43f-3a39b2baadb4",
   "metadata": {},
   "source": [
    "Nested if"
   ]
  },
  {
   "cell_type": "code",
   "execution_count": 14,
   "id": "7952e4fe-7cc2-402d-80e7-54da691fac42",
   "metadata": {},
   "outputs": [
    {
     "name": "stdout",
     "output_type": "stream",
     "text": [
      "Odd number\n"
     ]
    }
   ],
   "source": [
    "x=3\n",
    "r=x%2\n",
    "\n",
    "if r==0:\n",
    "    print('Even number')\n",
    "    if x>5:\n",
    "        print('greater number')\n",
    "\n",
    "else:\n",
    "    print('Odd number')"
   ]
  },
  {
   "cell_type": "code",
   "execution_count": 15,
   "id": "13854103-9c4a-42bd-b49e-5ffd83627938",
   "metadata": {},
   "outputs": [
    {
     "name": "stdout",
     "output_type": "stream",
     "text": [
      "Even number\n",
      "greater number\n"
     ]
    }
   ],
   "source": [
    "x=6\n",
    "r=x%2\n",
    "\n",
    "if r==0:\n",
    "    print('Even number')\n",
    "\n",
    "    if x>5:\n",
    "        print('greater number')\n",
    "    else:\n",
    "        print('smaller number')\n",
    "\n",
    "else:\n",
    "    print('Odd number')"
   ]
  },
  {
   "cell_type": "code",
   "execution_count": 16,
   "id": "8d161b14-90f4-4e9b-a3bd-16ea2084e3e0",
   "metadata": {},
   "outputs": [
    {
     "name": "stdout",
     "output_type": "stream",
     "text": [
      "four\n"
     ]
    }
   ],
   "source": [
    "x=4\n",
    "\n",
    "if x==1:\n",
    "    print('One')\n",
    "\n",
    "if x==2:\n",
    "    print('two')\\\n",
    "\n",
    "if x==3:\n",
    "    print('three')\n",
    "\n",
    "if x==4:\n",
    "    print('four')"
   ]
  },
  {
   "cell_type": "code",
   "execution_count": 17,
   "id": "e9f5a1f7-9815-4080-b4c0-b9d2215a7418",
   "metadata": {},
   "outputs": [
    {
     "name": "stdout",
     "output_type": "stream",
     "text": [
      "two\n"
     ]
    }
   ],
   "source": [
    "x=2 \n",
    "\n",
    "if x==1:\n",
    "    print('one')\n",
    "elif x==2:\n",
    "    print('two')\n",
    "elif x==3:\n",
    "    print('three')\n",
    "elif x==4:\n",
    "    print('four')"
   ]
  },
  {
   "cell_type": "code",
   "execution_count": 18,
   "id": "86314405-5397-4855-a293-af80ed79b78d",
   "metadata": {},
   "outputs": [],
   "source": [
    "x=10\n",
    "\n",
    "if x==1:\n",
    "    print('one')\n",
    "\n",
    "elif x==2:\n",
    "    print('two')\n",
    "\n",
    "elif x==3:\n",
    "    print('three')\n",
    "\n",
    "elif x==4:\n",
    "    print('four')"
   ]
  },
  {
   "cell_type": "code",
   "execution_count": 19,
   "id": "f4209da7-1f4b-400b-b183-cd5928c597af",
   "metadata": {},
   "outputs": [
    {
     "name": "stdout",
     "output_type": "stream",
     "text": [
      "number not found\n"
     ]
    }
   ],
   "source": [
    "x=10\n",
    "\n",
    "if x==1:\n",
    "    print('one')\n",
    "\n",
    "elif x==2:\n",
    "    print('two')\n",
    "\n",
    "elif x==3:\n",
    "    print('three')\n",
    "\n",
    "elif x==4:\n",
    "    priint('four')\n",
    "    \n",
    "else:\n",
    "    print('number not found')"
   ]
  },
  {
   "cell_type": "code",
   "execution_count": 24,
   "id": "0deec6cd-0ce3-4d84-8ad2-6307ff405a72",
   "metadata": {},
   "outputs": [
    {
     "name": "stdin",
     "output_type": "stream",
     "text": [
      "Enter a number:  10\n"
     ]
    },
    {
     "name": "stdout",
     "output_type": "stream",
     "text": [
      "Positive\n"
     ]
    }
   ],
   "source": [
    "num = int(input(\"Enter a number: \"))\n",
    "\n",
    "if num>0:\n",
    "    print(\"Positive\")\n",
    "\n",
    "elif num<0:\n",
    "    print(\"Negative\")\n",
    "\n",
    "else:\n",
    "    print(\"Zero\")"
   ]
  },
  {
   "cell_type": "markdown",
   "id": "a1d1bf0e-56e3-47a3-8141-e407ae4d96c7",
   "metadata": {},
   "source": [
    "If Conditional Statement in Python"
   ]
  },
  {
   "cell_type": "code",
   "execution_count": 25,
   "id": "f3fcbfb8-c819-4aed-b477-794a4b1843e4",
   "metadata": {},
   "outputs": [
    {
     "name": "stdout",
     "output_type": "stream",
     "text": [
      "Eligible to vote.\n"
     ]
    }
   ],
   "source": [
    "age = 20 \n",
    "if age>=18:\n",
    "    print(\"Eligible to vote.\")"
   ]
  },
  {
   "cell_type": "code",
   "execution_count": 26,
   "id": "7111df38-f5dd-47e1-88ae-dfe354501af0",
   "metadata": {},
   "outputs": [
    {
     "name": "stdout",
     "output_type": "stream",
     "text": [
      "Eligible to vote\n"
     ]
    }
   ],
   "source": [
    "age = 19\n",
    "if age>18:\n",
    "    print(\"Eligible to vote\")"
   ]
  },
  {
   "cell_type": "markdown",
   "id": "f89d0e6d-271a-4fa4-8d86-3268c0bd24d6",
   "metadata": {},
   "source": [
    "If else Conditional Statements in Python"
   ]
  },
  {
   "cell_type": "code",
   "execution_count": 28,
   "id": "c2330c01-b08c-4857-8dbd-9d69c6578106",
   "metadata": {},
   "outputs": [
    {
     "name": "stdout",
     "output_type": "stream",
     "text": [
      "Travel for free\n"
     ]
    }
   ],
   "source": [
    "age=12\n",
    "if age<=12:\n",
    "    print(\"Travel for free\")\n",
    "else:\n",
    "    print(\"Pay for ticket\")"
   ]
  },
  {
   "cell_type": "code",
   "execution_count": 35,
   "id": "c80372e4-1a03-492e-8c38-78e95d08695b",
   "metadata": {},
   "outputs": [
    {
     "name": "stdout",
     "output_type": "stream",
     "text": [
      "Result:Pass\n"
     ]
    }
   ],
   "source": [
    "marks=45\n",
    "res=\"Pass\"\n",
    "if marks>=40:\n",
    "    print(f\"Result:{res}\")\n",
    "else:\n",
    "    print(\"Fail\")"
   ]
  },
  {
   "cell_type": "code",
   "execution_count": null,
   "id": "d469c40d-2c37-49b1-b648-092f5b660561",
   "metadata": {},
   "outputs": [],
   "source": [
    "elif Statement"
   ]
  },
  {
   "cell_type": "code",
   "execution_count": 36,
   "id": "01fa7b32-532c-4ec7-b357-b2912b4f5bd4",
   "metadata": {},
   "outputs": [
    {
     "name": "stdout",
     "output_type": "stream",
     "text": [
      "Young adult.\n"
     ]
    }
   ],
   "source": [
    "age = 25\n",
    "if age<=12:\n",
    "    print(\"Child.\")\n",
    "\n",
    "elif age<=19:\n",
    "    print(\"Teenager.\")\n",
    "\n",
    "elif age<=35:\n",
    "    print(\"Young adult.\")\n",
    "\n",
    "else:\n",
    "    print(\"Adult.\")"
   ]
  },
  {
   "cell_type": "markdown",
   "id": "6646188d-9b6f-4fca-93f9-98fb399cb693",
   "metadata": {},
   "source": [
    "Nested if..else Conditional Statements in Python"
   ]
  },
  {
   "cell_type": "code",
   "execution_count": 39,
   "id": "ba33d8f6-ee8c-469d-b816-277d4aefed03",
   "metadata": {},
   "outputs": [
    {
     "name": "stdout",
     "output_type": "stream",
     "text": [
      "Not eligible for a senior discount.\n"
     ]
    }
   ],
   "source": [
    "age=50\n",
    "is_member = True\n",
    "\n",
    "if age>=60:\n",
    "    if is_member:\n",
    "        print(\"30% senior discount!\")\n",
    "\n",
    "    else:\n",
    "        print(\"20% senior discount!\")\n",
    "\n",
    "else:\n",
    "    print(\"Not eligible for a senior discount.\")"
   ]
  },
  {
   "cell_type": "markdown",
   "id": "e4fe1b65-62bb-4c1f-bec5-737edffcfac8",
   "metadata": {},
   "source": [
    "Ternary Conditional Statement in Python"
   ]
  },
  {
   "cell_type": "code",
   "execution_count": 44,
   "id": "e2748d37-d61e-4ad4-9b3f-51fdc6958470",
   "metadata": {},
   "outputs": [
    {
     "name": "stdout",
     "output_type": "stream",
     "text": [
      "Minor\n"
     ]
    }
   ],
   "source": [
    "# Assign a value based on a condition \n",
    "age = 10 \n",
    "if age>=18:\n",
    "    s = \"Adult\" \n",
    "else :\n",
    "    s = \"Minor\"\n",
    "print (s)"
   ]
  },
  {
   "cell_type": "markdown",
   "id": "09ae272b-103b-41fb-9857-949f6854b6a2",
   "metadata": {},
   "source": [
    "Match-Case Statement in Python"
   ]
  },
  {
   "cell_type": "code",
   "execution_count": 49,
   "id": "68905535-24c9-4c4d-8636-917598c208dc",
   "metadata": {},
   "outputs": [
    {
     "name": "stdout",
     "output_type": "stream",
     "text": [
      "Two or Three\n"
     ]
    }
   ],
   "source": [
    "number = 3\n",
    "\n",
    "match number:\n",
    "    case 1:\n",
    "        print(\"One\")\n",
    "    case 2 | 3:\n",
    "        print(\"Two or Three\")\n",
    "    case _:\n",
    "        print(\"Other number\")"
   ]
  },
  {
   "cell_type": "code",
   "execution_count": null,
   "id": "aee8e993-aeda-4e10-a7d6-bd719533caae",
   "metadata": {},
   "outputs": [],
   "source": []
  }
 ],
 "metadata": {
  "kernelspec": {
   "display_name": "Python [conda env:base] *",
   "language": "python",
   "name": "conda-base-py"
  },
  "language_info": {
   "codemirror_mode": {
    "name": "ipython",
    "version": 3
   },
   "file_extension": ".py",
   "mimetype": "text/x-python",
   "name": "python",
   "nbconvert_exporter": "python",
   "pygments_lexer": "ipython3",
   "version": "3.12.7"
  }
 },
 "nbformat": 4,
 "nbformat_minor": 5
}
