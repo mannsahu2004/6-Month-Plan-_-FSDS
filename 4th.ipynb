{
 "cells": [
  {
   "cell_type": "code",
   "execution_count": null,
   "id": "5afaf0c4-9138-45be-a1ed-f521f7b819be",
   "metadata": {},
   "outputs": [],
   "source": [
    "#Numpy Crash Course"
   ]
  },
  {
   "cell_type": "code",
   "execution_count": 2,
   "id": "3a1eb0fd-eff2-4def-8446-1a77dd2059b8",
   "metadata": {},
   "outputs": [],
   "source": [
    "import numpy as np"
   ]
  },
  {
   "cell_type": "code",
   "execution_count": null,
   "id": "62bc9d89-15ee-49ff-9a0c-2901b1d0959c",
   "metadata": {},
   "outputs": [],
   "source": [
    "import sys \n",
    "sys.version"
   ]
  },
  {
   "cell_type": "code",
   "execution_count": 9,
   "id": "569503fa-2b23-436b-a41e-ed0d0e4965a1",
   "metadata": {},
   "outputs": [
    {
     "data": {
      "text/plain": [
       "'1.26.4'"
      ]
     },
     "execution_count": 9,
     "metadata": {},
     "output_type": "execute_result"
    }
   ],
   "source": [
    "np.__version__"
   ]
  },
  {
   "cell_type": "code",
   "execution_count": 5,
   "id": "7522e9b4-1f21-4558-96ae-332e4808fa2a",
   "metadata": {},
   "outputs": [],
   "source": [
    "#Creating Arrays  "
   ]
  },
  {
   "cell_type": "code",
   "execution_count": 6,
   "id": "b8286b55-d117-43f7-8e16-99c5cc04058a",
   "metadata": {},
   "outputs": [
    {
     "data": {
      "text/plain": [
       "[0, 1, 2, 3, 4, 5]"
      ]
     },
     "execution_count": 6,
     "metadata": {},
     "output_type": "execute_result"
    }
   ],
   "source": [
    "my_list =  [0,1,2,3,4,5]\n",
    "my_list"
   ]
  },
  {
   "cell_type": "code",
   "execution_count": 7,
   "id": "74505921-45fb-496f-982f-45123212ad88",
   "metadata": {},
   "outputs": [
    {
     "data": {
      "text/plain": [
       "list"
      ]
     },
     "execution_count": 7,
     "metadata": {},
     "output_type": "execute_result"
    }
   ],
   "source": [
    "type(my_list)"
   ]
  },
  {
   "cell_type": "code",
   "execution_count": 8,
   "id": "d494f1e9-53d2-4484-94e1-c29a435ee071",
   "metadata": {},
   "outputs": [],
   "source": [
    "arr = np.array(my_list)"
   ]
  },
  {
   "cell_type": "code",
   "execution_count": 10,
   "id": "130881e8-4666-4676-a706-05aade91903c",
   "metadata": {},
   "outputs": [
    {
     "data": {
      "text/plain": [
       "array([0, 1, 2, 3, 4, 5])"
      ]
     },
     "execution_count": 10,
     "metadata": {},
     "output_type": "execute_result"
    }
   ],
   "source": [
    "arr"
   ]
  },
  {
   "cell_type": "code",
   "execution_count": 11,
   "id": "3d928816-d6d4-4a70-8bff-92738a274712",
   "metadata": {},
   "outputs": [
    {
     "data": {
      "text/plain": [
       "numpy.ndarray"
      ]
     },
     "execution_count": 11,
     "metadata": {},
     "output_type": "execute_result"
    }
   ],
   "source": [
    "type(arr)"
   ]
  },
  {
   "cell_type": "code",
   "execution_count": 12,
   "id": "bf3481c5-3727-4237-b3b0-185c79dfef56",
   "metadata": {},
   "outputs": [
    {
     "data": {
      "text/plain": [
       "array([ 0,  1,  2,  3,  4,  5,  6,  7,  8,  9, 10, 11, 12, 13, 14])"
      ]
     },
     "execution_count": 12,
     "metadata": {},
     "output_type": "execute_result"
    }
   ],
   "source": [
    "np.arange(15)"
   ]
  },
  {
   "cell_type": "code",
   "execution_count": 13,
   "id": "77732120-9c9e-435d-b439-fba2bb775ca7",
   "metadata": {},
   "outputs": [
    {
     "data": {
      "text/plain": [
       "array([0., 1., 2.])"
      ]
     },
     "execution_count": 13,
     "metadata": {},
     "output_type": "execute_result"
    }
   ],
   "source": [
    "np.arange(3.0)"
   ]
  },
  {
   "cell_type": "code",
   "execution_count": 14,
   "id": "8667ce46-1446-4e7f-9c05-feaba8bed0a4",
   "metadata": {},
   "outputs": [
    {
     "data": {
      "text/plain": [
       "array([0, 1, 2, 3, 4, 5, 6, 7, 8, 9])"
      ]
     },
     "execution_count": 14,
     "metadata": {},
     "output_type": "execute_result"
    }
   ],
   "source": [
    "np.arange(10)"
   ]
  },
  {
   "cell_type": "code",
   "execution_count": 15,
   "id": "1b6887a0-841d-4246-ac4a-6cc3e9f946f5",
   "metadata": {},
   "outputs": [
    {
     "data": {
      "text/plain": [
       "array([0, 1, 2, 3, 4])"
      ]
     },
     "execution_count": 15,
     "metadata": {},
     "output_type": "execute_result"
    }
   ],
   "source": [
    "np.arange(0,5)"
   ]
  },
  {
   "cell_type": "code",
   "execution_count": 16,
   "id": "8438f5f5-956e-460d-b264-bda395519f15",
   "metadata": {},
   "outputs": [
    {
     "data": {
      "text/plain": [
       "array([10, 11, 12, 13, 14, 15, 16, 17, 18, 19])"
      ]
     },
     "execution_count": 16,
     "metadata": {},
     "output_type": "execute_result"
    }
   ],
   "source": [
    "np.arange(10,20)"
   ]
  },
  {
   "cell_type": "code",
   "execution_count": 18,
   "id": "c1c5b357-8b29-4e3e-a948-e39b6dad7b43",
   "metadata": {},
   "outputs": [
    {
     "data": {
      "text/plain": [
       "array([-20, -19, -18, -17, -16, -15, -14, -13, -12, -11, -10,  -9,  -8,\n",
       "        -7,  -6,  -5,  -4,  -3,  -2,  -1,   0,   1,   2,   3,   4,   5,\n",
       "         6,   7,   8,   9,  10,  11,  12,  13,  14,  15,  16,  17,  18,\n",
       "        19])"
      ]
     },
     "execution_count": 18,
     "metadata": {},
     "output_type": "execute_result"
    }
   ],
   "source": [
    "np.arange(-20,20)"
   ]
  },
  {
   "cell_type": "code",
   "execution_count": 19,
   "id": "aa1ea9c5-650e-4525-8ec9-44abe5497b19",
   "metadata": {},
   "outputs": [
    {
     "data": {
      "text/plain": [
       "array([-16, -15, -14, -13, -12, -11, -10,  -9,  -8,  -7,  -6,  -5,  -4,\n",
       "        -3,  -2,  -1,   0,   1,   2,   3,   4,   5,   6,   7,   8,   9])"
      ]
     },
     "execution_count": 19,
     "metadata": {},
     "output_type": "execute_result"
    }
   ],
   "source": [
    "np.arange(-16,10)"
   ]
  },
  {
   "cell_type": "code",
   "execution_count": null,
   "id": "39769b8c-abe7-4c43-a3c5-b4faf276ee6c",
   "metadata": {},
   "outputs": [],
   "source": []
  },
  {
   "cell_type": "code",
   "execution_count": 20,
   "id": "a4f8cf6f-9daf-43d4-b9e2-1b92e5363607",
   "metadata": {},
   "outputs": [
    {
     "data": {
      "text/plain": [
       "array([-20, -19, -18, -17, -16, -15, -14, -13, -12, -11])"
      ]
     },
     "execution_count": 20,
     "metadata": {},
     "output_type": "execute_result"
    }
   ],
   "source": [
    "np.arange(-20,-10)"
   ]
  },
  {
   "cell_type": "code",
   "execution_count": 22,
   "id": "b3d0d777-d9cf-4b77-a8ba-979b57bfc19d",
   "metadata": {},
   "outputs": [
    {
     "data": {
      "text/plain": [
       "array([], dtype=int32)"
      ]
     },
     "execution_count": 22,
     "metadata": {},
     "output_type": "execute_result"
    }
   ],
   "source": [
    "np.arange(30,20)\n"
   ]
  },
  {
   "cell_type": "code",
   "execution_count": 25,
   "id": "bcbb945b-30f6-41cd-a955-2741eca6c73a",
   "metadata": {},
   "outputs": [
    {
     "data": {
      "text/plain": [
       "array([0, 1, 2, 3, 4, 5])"
      ]
     },
     "execution_count": 25,
     "metadata": {},
     "output_type": "execute_result"
    }
   ],
   "source": [
    "ar = np.arange(-30,20)\n",
    "arr"
   ]
  },
  {
   "cell_type": "code",
   "execution_count": 26,
   "id": "0c3aa063-ed77-4aac-8a79-d98b4ac4e34c",
   "metadata": {},
   "outputs": [
    {
     "data": {
      "text/plain": [
       "array([], dtype=int32)"
      ]
     },
     "execution_count": 26,
     "metadata": {},
     "output_type": "execute_result"
    }
   ],
   "source": [
    "np.arange(10,10)"
   ]
  },
  {
   "cell_type": "code",
   "execution_count": 27,
   "id": "464550eb-681b-41ac-9223-c1a59b81e18c",
   "metadata": {},
   "outputs": [
    {
     "ename": "TypeError",
     "evalue": "arange() requires stop to be specified.",
     "output_type": "error",
     "traceback": [
      "\u001b[1;31m---------------------------------------------------------------------------\u001b[0m",
      "\u001b[1;31mTypeError\u001b[0m                                 Traceback (most recent call last)",
      "Cell \u001b[1;32mIn[27], line 1\u001b[0m\n\u001b[1;32m----> 1\u001b[0m np\u001b[38;5;241m.\u001b[39marange()\n",
      "\u001b[1;31mTypeError\u001b[0m: arange() requires stop to be specified."
     ]
    }
   ],
   "source": [
    "np.arange()"
   ]
  },
  {
   "cell_type": "code",
   "execution_count": 28,
   "id": "2596afee-1fcb-48ce-897b-fa2b172571c8",
   "metadata": {},
   "outputs": [
    {
     "data": {
      "text/plain": [
       "array([10, 15, 20, 25])"
      ]
     },
     "execution_count": 28,
     "metadata": {},
     "output_type": "execute_result"
    }
   ],
   "source": [
    "np.arange(10,30,5)"
   ]
  },
  {
   "cell_type": "code",
   "execution_count": 29,
   "id": "b8f403b9-e582-4bcb-b3ae-a8134d50f824",
   "metadata": {},
   "outputs": [
    {
     "data": {
      "text/plain": [
       "array([0, 3, 6, 9])"
      ]
     },
     "execution_count": 29,
     "metadata": {},
     "output_type": "execute_result"
    }
   ],
   "source": [
    "np.arange(0,10,3)"
   ]
  },
  {
   "cell_type": "code",
   "execution_count": 30,
   "id": "79c817c2-bec6-4e5c-85e8-4644a62fb913",
   "metadata": {},
   "outputs": [
    {
     "ename": "TypeError",
     "evalue": "Cannot interpret '8' as a data type",
     "output_type": "error",
     "traceback": [
      "\u001b[1;31m---------------------------------------------------------------------------\u001b[0m",
      "\u001b[1;31mTypeError\u001b[0m                                 Traceback (most recent call last)",
      "Cell \u001b[1;32mIn[30], line 1\u001b[0m\n\u001b[1;32m----> 1\u001b[0m np\u001b[38;5;241m.\u001b[39marange(\u001b[38;5;241m10\u001b[39m,\u001b[38;5;241m30\u001b[39m,\u001b[38;5;241m5\u001b[39m,\u001b[38;5;241m8\u001b[39m)\n",
      "\u001b[1;31mTypeError\u001b[0m: Cannot interpret '8' as a data type"
     ]
    }
   ],
   "source": [
    "np.arange(10,30,5,8)"
   ]
  },
  {
   "cell_type": "code",
   "execution_count": 31,
   "id": "75008c90-1d37-47ae-85a3-cdfc367803f0",
   "metadata": {},
   "outputs": [
    {
     "data": {
      "text/plain": [
       "array([0., 0., 0.])"
      ]
     },
     "execution_count": 31,
     "metadata": {},
     "output_type": "execute_result"
    }
   ],
   "source": [
    "np.zeros(3) # parameter tunning"
   ]
  },
  {
   "cell_type": "code",
   "execution_count": 32,
   "id": "b3b10c42-b58d-4c79-99cf-0fb833ffc09d",
   "metadata": {},
   "outputs": [
    {
     "data": {
      "text/plain": [
       "array([0, 0, 0, 0, 0])"
      ]
     },
     "execution_count": 32,
     "metadata": {},
     "output_type": "execute_result"
    }
   ],
   "source": [
    "np.zeros(5,dtype=int) # hyperparameter tunning"
   ]
  },
  {
   "cell_type": "code",
   "execution_count": 33,
   "id": "8808f73e-a7a9-4704-9995-4e104bbc2ca6",
   "metadata": {},
   "outputs": [
    {
     "data": {
      "text/plain": [
       "array([[0, 0],\n",
       "       [0, 0]])"
      ]
     },
     "execution_count": 33,
     "metadata": {},
     "output_type": "execute_result"
    }
   ],
   "source": [
    "np.zeros((2,2),dtype=int)"
   ]
  },
  {
   "cell_type": "code",
   "execution_count": 34,
   "id": "00c3d619-1f11-445e-8f47-897aeb024da4",
   "metadata": {},
   "outputs": [
    {
     "name": "stdout",
     "output_type": "stream",
     "text": [
      "[[0. 0.]\n",
      " [0. 0.]]\n",
      "<class 'numpy.ndarray'>\n"
     ]
    }
   ],
   "source": [
    "zero=np.zeros([2,2])\n",
    "print(zero)\n",
    "print(type(zero))"
   ]
  },
  {
   "cell_type": "code",
   "execution_count": 35,
   "id": "c0bf3c6b-4cfa-47ff-853d-9dbed3828c7d",
   "metadata": {},
   "outputs": [
    {
     "name": "stdout",
     "output_type": "stream",
     "text": [
      "[[0. 0.]\n",
      " [0. 0.]]\n",
      "####\n",
      "<class 'numpy.ndarray'>\n"
     ]
    }
   ],
   "source": [
    "zero=np.zeros([2,2])\n",
    "print(zero)\n",
    "print('####')\n",
    "print(type(zero))"
   ]
  },
  {
   "cell_type": "code",
   "execution_count": 36,
   "id": "1292fa2a-10ad-4829-9bde-117da90aa34c",
   "metadata": {},
   "outputs": [
    {
     "data": {
      "text/plain": [
       "array([[0., 0., 0.],\n",
       "       [0., 0., 0.],\n",
       "       [0., 0., 0.]])"
      ]
     },
     "execution_count": 36,
     "metadata": {},
     "output_type": "execute_result"
    }
   ],
   "source": [
    "np.zeros((3,3))"
   ]
  },
  {
   "cell_type": "code",
   "execution_count": 37,
   "id": "461914ca-0115-48e1-b694-dc229992893a",
   "metadata": {},
   "outputs": [
    {
     "data": {
      "text/plain": [
       "array([[0., 0., 0., 0., 0., 0., 0., 0., 0., 0., 0., 0., 0., 0., 0., 0.,\n",
       "        0., 0., 0., 0., 0., 0., 0., 0., 0., 0., 0., 0., 0., 0.],\n",
       "       [0., 0., 0., 0., 0., 0., 0., 0., 0., 0., 0., 0., 0., 0., 0., 0.,\n",
       "        0., 0., 0., 0., 0., 0., 0., 0., 0., 0., 0., 0., 0., 0.],\n",
       "       [0., 0., 0., 0., 0., 0., 0., 0., 0., 0., 0., 0., 0., 0., 0., 0.,\n",
       "        0., 0., 0., 0., 0., 0., 0., 0., 0., 0., 0., 0., 0., 0.],\n",
       "       [0., 0., 0., 0., 0., 0., 0., 0., 0., 0., 0., 0., 0., 0., 0., 0.,\n",
       "        0., 0., 0., 0., 0., 0., 0., 0., 0., 0., 0., 0., 0., 0.],\n",
       "       [0., 0., 0., 0., 0., 0., 0., 0., 0., 0., 0., 0., 0., 0., 0., 0.,\n",
       "        0., 0., 0., 0., 0., 0., 0., 0., 0., 0., 0., 0., 0., 0.],\n",
       "       [0., 0., 0., 0., 0., 0., 0., 0., 0., 0., 0., 0., 0., 0., 0., 0.,\n",
       "        0., 0., 0., 0., 0., 0., 0., 0., 0., 0., 0., 0., 0., 0.],\n",
       "       [0., 0., 0., 0., 0., 0., 0., 0., 0., 0., 0., 0., 0., 0., 0., 0.,\n",
       "        0., 0., 0., 0., 0., 0., 0., 0., 0., 0., 0., 0., 0., 0.],\n",
       "       [0., 0., 0., 0., 0., 0., 0., 0., 0., 0., 0., 0., 0., 0., 0., 0.,\n",
       "        0., 0., 0., 0., 0., 0., 0., 0., 0., 0., 0., 0., 0., 0.],\n",
       "       [0., 0., 0., 0., 0., 0., 0., 0., 0., 0., 0., 0., 0., 0., 0., 0.,\n",
       "        0., 0., 0., 0., 0., 0., 0., 0., 0., 0., 0., 0., 0., 0.],\n",
       "       [0., 0., 0., 0., 0., 0., 0., 0., 0., 0., 0., 0., 0., 0., 0., 0.,\n",
       "        0., 0., 0., 0., 0., 0., 0., 0., 0., 0., 0., 0., 0., 0.]])"
      ]
     },
     "execution_count": 37,
     "metadata": {},
     "output_type": "execute_result"
    }
   ],
   "source": [
    "np.zeros((10,30))"
   ]
  },
  {
   "cell_type": "code",
   "execution_count": 38,
   "id": "2eaa6f32-494d-4458-a8e1-77f0bc04d02d",
   "metadata": {},
   "outputs": [
    {
     "data": {
      "text/plain": [
       "array([[0., 0., 0., 0., 0., 0., 0., 0., 0., 0.],\n",
       "       [0., 0., 0., 0., 0., 0., 0., 0., 0., 0.],\n",
       "       [0., 0., 0., 0., 0., 0., 0., 0., 0., 0.],\n",
       "       [0., 0., 0., 0., 0., 0., 0., 0., 0., 0.],\n",
       "       [0., 0., 0., 0., 0., 0., 0., 0., 0., 0.]])"
      ]
     },
     "execution_count": 38,
     "metadata": {},
     "output_type": "execute_result"
    }
   ],
   "source": [
    "np.zeros((5,10)) # bydeful large -- will give row "
   ]
  },
  {
   "cell_type": "code",
   "execution_count": 41,
   "id": "2338cdb5-f17b-4043-9c75-d166ebdea650",
   "metadata": {},
   "outputs": [
    {
     "name": "stdout",
     "output_type": "stream",
     "text": [
      "[[0. 0. 0. 0. 0. 0. 0. 0.]\n",
      " [0. 0. 0. 0. 0. 0. 0. 0.]\n",
      " [0. 0. 0. 0. 0. 0. 0. 0.]\n",
      " [0. 0. 0. 0. 0. 0. 0. 0.]\n",
      " [0. 0. 0. 0. 0. 0. 0. 0.]\n",
      " [0. 0. 0. 0. 0. 0. 0. 0.]]\n"
     ]
    }
   ],
   "source": [
    "n = (6,7)\n",
    "n1 = (6,8)\n",
    "print(np.zeros(n1)) # parameter tunning"
   ]
  },
  {
   "cell_type": "code",
   "execution_count": 42,
   "id": "58153c8d-9192-4e4d-8f73-567f93afff25",
   "metadata": {},
   "outputs": [
    {
     "name": "stdout",
     "output_type": "stream",
     "text": [
      "[[0 0 0 0 0 0 0]\n",
      " [0 0 0 0 0 0 0]\n",
      " [0 0 0 0 0 0 0]\n",
      " [0 0 0 0 0 0 0]\n",
      " [0 0 0 0 0 0 0]\n",
      " [0 0 0 0 0 0 0]]\n"
     ]
    }
   ],
   "source": [
    "print(np.zeros(n,dtype=int)) # hyperparameter tunning"
   ]
  },
  {
   "cell_type": "code",
   "execution_count": 43,
   "id": "082cb7aa-1254-487f-b9c1-6a84f0e43dcb",
   "metadata": {},
   "outputs": [
    {
     "data": {
      "text/plain": [
       "(6, 7)"
      ]
     },
     "execution_count": 43,
     "metadata": {},
     "output_type": "execute_result"
    }
   ],
   "source": [
    "n"
   ]
  },
  {
   "cell_type": "code",
   "execution_count": 44,
   "id": "000aa803-9499-46b1-a90b-7544ee1f1cc4",
   "metadata": {},
   "outputs": [
    {
     "data": {
      "text/plain": [
       "(6, 8)"
      ]
     },
     "execution_count": 44,
     "metadata": {},
     "output_type": "execute_result"
    }
   ],
   "source": [
    "n1"
   ]
  },
  {
   "cell_type": "code",
   "execution_count": 45,
   "id": "a5eb2500-b054-461a-8f4d-c9c810483aa5",
   "metadata": {},
   "outputs": [
    {
     "name": "stdout",
     "output_type": "stream",
     "text": [
      "[[0. 0. 0. 0. 0. 0. 0. 0.]\n",
      " [0. 0. 0. 0. 0. 0. 0. 0.]\n",
      " [0. 0. 0. 0. 0. 0. 0. 0.]\n",
      " [0. 0. 0. 0. 0. 0. 0. 0.]\n",
      " [0. 0. 0. 0. 0. 0. 0. 0.]\n",
      " [0. 0. 0. 0. 0. 0. 0. 0.]]\n"
     ]
    }
   ],
   "source": [
    "print(np.zeros(n1))"
   ]
  },
  {
   "cell_type": "code",
   "execution_count": 46,
   "id": "2182ad3e-c003-4991-8ab0-effc638359de",
   "metadata": {},
   "outputs": [
    {
     "data": {
      "text/plain": [
       "array([1., 1., 1.])"
      ]
     },
     "execution_count": 46,
     "metadata": {},
     "output_type": "execute_result"
    }
   ],
   "source": [
    "np.ones(3)"
   ]
  },
  {
   "cell_type": "code",
   "execution_count": 47,
   "id": "01c4daef-9adf-485a-b1c9-f5172fbcb92b",
   "metadata": {},
   "outputs": [
    {
     "data": {
      "text/plain": [
       "array([1, 1, 1, 1])"
      ]
     },
     "execution_count": 47,
     "metadata": {},
     "output_type": "execute_result"
    }
   ],
   "source": [
    "np.ones(4, dtype = int )"
   ]
  },
  {
   "cell_type": "code",
   "execution_count": 48,
   "id": "2f089368-e66a-4d3f-bdf2-3e6d0e76541d",
   "metadata": {},
   "outputs": [
    {
     "data": {
      "text/plain": [
       "array([1., 1., 1., 1.])"
      ]
     },
     "execution_count": 48,
     "metadata": {},
     "output_type": "execute_result"
    }
   ],
   "source": [
    "np.ones(4)"
   ]
  },
  {
   "cell_type": "code",
   "execution_count": 49,
   "id": "d07041e3-3dc6-487a-a899-5f2aa4d6ba55",
   "metadata": {},
   "outputs": [
    {
     "data": {
      "text/plain": [
       "(6, 7)"
      ]
     },
     "execution_count": 49,
     "metadata": {},
     "output_type": "execute_result"
    }
   ],
   "source": [
    "n"
   ]
  },
  {
   "cell_type": "code",
   "execution_count": 50,
   "id": "dbbf50e7-9414-493d-ac96-6ba4077f36af",
   "metadata": {},
   "outputs": [
    {
     "data": {
      "text/plain": [
       "array([[1., 1., 1., 1., 1., 1., 1.],\n",
       "       [1., 1., 1., 1., 1., 1., 1.],\n",
       "       [1., 1., 1., 1., 1., 1., 1.],\n",
       "       [1., 1., 1., 1., 1., 1., 1.],\n",
       "       [1., 1., 1., 1., 1., 1., 1.],\n",
       "       [1., 1., 1., 1., 1., 1., 1.]])"
      ]
     },
     "execution_count": 50,
     "metadata": {},
     "output_type": "execute_result"
    }
   ],
   "source": [
    "np.ones(n)"
   ]
  },
  {
   "cell_type": "code",
   "execution_count": 51,
   "id": "fefa0c26-54e9-434b-a9fb-f76d104989e1",
   "metadata": {},
   "outputs": [
    {
     "data": {
      "text/plain": [
       "array([[1, 1, 1, 1],\n",
       "       [1, 1, 1, 1],\n",
       "       [1, 1, 1, 1],\n",
       "       [1, 1, 1, 1],\n",
       "       [1, 1, 1, 1]])"
      ]
     },
     "execution_count": 51,
     "metadata": {},
     "output_type": "execute_result"
    }
   ],
   "source": [
    "np.ones((5,4),dtype=int) # by default 5 - rows & 4"
   ]
  },
  {
   "cell_type": "code",
   "execution_count": 52,
   "id": "61f27504-d497-47a9-96f0-82603718779a",
   "metadata": {},
   "outputs": [
    {
     "data": {
      "text/plain": [
       "array([1., 1.])"
      ]
     },
     "execution_count": 52,
     "metadata": {},
     "output_type": "execute_result"
    }
   ],
   "source": [
    "np.ones(2)"
   ]
  },
  {
   "cell_type": "code",
   "execution_count": 53,
   "id": "b3d3f4ac-1074-4620-aef5-c2957d8dc1e3",
   "metadata": {},
   "outputs": [
    {
     "data": {
      "text/plain": [
       "array([[1., 1., 1., 1.],\n",
       "       [1., 1., 1., 1.]])"
      ]
     },
     "execution_count": 53,
     "metadata": {},
     "output_type": "execute_result"
    }
   ],
   "source": [
    "np.ones((2,4))"
   ]
  },
  {
   "cell_type": "code",
   "execution_count": 54,
   "id": "1ee484fe-71a8-4429-a3ce-cc230f0eb8cc",
   "metadata": {},
   "outputs": [
    {
     "data": {
      "text/plain": [
       "array([[1, 1, 1, 1, 1, 1, 1, 1, 1, 1],\n",
       "       [1, 1, 1, 1, 1, 1, 1, 1, 1, 1],\n",
       "       [1, 1, 1, 1, 1, 1, 1, 1, 1, 1],\n",
       "       [1, 1, 1, 1, 1, 1, 1, 1, 1, 1],\n",
       "       [1, 1, 1, 1, 1, 1, 1, 1, 1, 1],\n",
       "       [1, 1, 1, 1, 1, 1, 1, 1, 1, 1]])"
      ]
     },
     "execution_count": 54,
     "metadata": {},
     "output_type": "execute_result"
    }
   ],
   "source": [
    "np.ones((6,10),dtype=int)"
   ]
  },
  {
   "cell_type": "code",
   "execution_count": 55,
   "id": "899e686f-e749-4967-8842-e7ada7a74778",
   "metadata": {},
   "outputs": [
    {
     "ename": "AttributeError",
     "evalue": "module 'numpy' has no attribute 'three'",
     "output_type": "error",
     "traceback": [
      "\u001b[1;31m---------------------------------------------------------------------------\u001b[0m",
      "\u001b[1;31mAttributeError\u001b[0m                            Traceback (most recent call last)",
      "Cell \u001b[1;32mIn[55], line 1\u001b[0m\n\u001b[1;32m----> 1\u001b[0m np\u001b[38;5;241m.\u001b[39mthree((\u001b[38;5;241m2\u001b[39m,\u001b[38;5;241m4\u001b[39m))\n",
      "File \u001b[1;32m~\\anaconda3\\Lib\\site-packages\\numpy\\__init__.py:333\u001b[0m, in \u001b[0;36m__getattr__\u001b[1;34m(attr)\u001b[0m\n\u001b[0;32m    330\u001b[0m     \u001b[38;5;124m\"\u001b[39m\u001b[38;5;124mRemoved in NumPy 1.25.0\u001b[39m\u001b[38;5;124m\"\u001b[39m\n\u001b[0;32m    331\u001b[0m     \u001b[38;5;28;01mraise\u001b[39;00m \u001b[38;5;167;01mRuntimeError\u001b[39;00m(\u001b[38;5;124m\"\u001b[39m\u001b[38;5;124mTester was removed in NumPy 1.25.\u001b[39m\u001b[38;5;124m\"\u001b[39m)\n\u001b[1;32m--> 333\u001b[0m \u001b[38;5;28;01mraise\u001b[39;00m \u001b[38;5;167;01mAttributeError\u001b[39;00m(\u001b[38;5;124m\"\u001b[39m\u001b[38;5;124mmodule \u001b[39m\u001b[38;5;132;01m{!r}\u001b[39;00m\u001b[38;5;124m has no attribute \u001b[39m\u001b[38;5;124m\"\u001b[39m\n\u001b[0;32m    334\u001b[0m                      \u001b[38;5;124m\"\u001b[39m\u001b[38;5;132;01m{!r}\u001b[39;00m\u001b[38;5;124m\"\u001b[39m\u001b[38;5;241m.\u001b[39mformat(\u001b[38;5;18m__name__\u001b[39m, attr))\n",
      "\u001b[1;31mAttributeError\u001b[0m: module 'numpy' has no attribute 'three'"
     ]
    }
   ],
   "source": [
    "np.three((2,4))"
   ]
  },
  {
   "cell_type": "code",
   "execution_count": 56,
   "id": "6a2699ed-cbe5-4fab-9203-57bef9bd0890",
   "metadata": {},
   "outputs": [
    {
     "data": {
      "text/plain": [
       "range(0, 5)"
      ]
     },
     "execution_count": 56,
     "metadata": {},
     "output_type": "execute_result"
    }
   ],
   "source": [
    "range(5)"
   ]
  },
  {
   "cell_type": "code",
   "execution_count": 58,
   "id": "b7ef9c49-12ac-46ae-8da8-7e56a75ed9c8",
   "metadata": {},
   "outputs": [
    {
     "data": {
      "text/plain": [
       "range(0, 5)"
      ]
     },
     "execution_count": 58,
     "metadata": {},
     "output_type": "execute_result"
    }
   ],
   "source": [
    "r=range(5)\n",
    "r"
   ]
  },
  {
   "cell_type": "code",
   "execution_count": 61,
   "id": "43e89518-0b50-4ebe-b443-0c5986b58ee2",
   "metadata": {},
   "outputs": [
    {
     "name": "stdout",
     "output_type": "stream",
     "text": [
      "0\n",
      "1\n",
      "2\n",
      "3\n",
      "4\n"
     ]
    }
   ],
   "source": [
    "for i in r:\n",
    "    print(i)"
   ]
  },
  {
   "cell_type": "code",
   "execution_count": 62,
   "id": "fe278ae7-c190-4f97-9814-36a39306d545",
   "metadata": {},
   "outputs": [
    {
     "data": {
      "text/plain": [
       "[0, 1, 2, 3, 4]"
      ]
     },
     "execution_count": 62,
     "metadata": {},
     "output_type": "execute_result"
    }
   ],
   "source": [
    "list(range(5))"
   ]
  },
  {
   "cell_type": "code",
   "execution_count": 63,
   "id": "16b49a92-6e2f-466b-a013-c4736561a121",
   "metadata": {},
   "outputs": [
    {
     "data": {
      "text/plain": [
       "range(1, 10)"
      ]
     },
     "execution_count": 63,
     "metadata": {},
     "output_type": "execute_result"
    }
   ],
   "source": [
    "range(1,10)"
   ]
  },
  {
   "cell_type": "code",
   "execution_count": 64,
   "id": "c1d35b0b-ccbb-4ad2-9328-4ac8c167f2f8",
   "metadata": {},
   "outputs": [
    {
     "data": {
      "text/plain": [
       "[1, 2, 3, 4, 5, 6, 7, 8, 9]"
      ]
     },
     "execution_count": 64,
     "metadata": {},
     "output_type": "execute_result"
    }
   ],
   "source": [
    "list(range(1,10))"
   ]
  },
  {
   "cell_type": "code",
   "execution_count": 65,
   "id": "d19e62d7-0b2e-4747-bb6a-48075c75871a",
   "metadata": {},
   "outputs": [
    {
     "data": {
      "text/plain": [
       "[1, 4, 7]"
      ]
     },
     "execution_count": 65,
     "metadata": {},
     "output_type": "execute_result"
    }
   ],
   "source": [
    "list(range(1,10,3))"
   ]
  },
  {
   "cell_type": "code",
   "execution_count": 67,
   "id": "a8e69a88-d0ba-4a6e-8fa7-66480ed5a5ea",
   "metadata": {},
   "outputs": [
    {
     "data": {
      "text/plain": [
       "[0, 1, 2, 3, 4, 5, 6, 7, 8, 9, 10, 11]"
      ]
     },
     "execution_count": 67,
     "metadata": {},
     "output_type": "execute_result"
    }
   ],
   "source": [
    "y = list(range(12))\n",
    "y"
   ]
  },
  {
   "cell_type": "code",
   "execution_count": 68,
   "id": "5f35130f-35dd-4a94-9605-c59767974061",
   "metadata": {},
   "outputs": [
    {
     "ename": "NameError",
     "evalue": "name 'rand' is not defined",
     "output_type": "error",
     "traceback": [
      "\u001b[1;31m---------------------------------------------------------------------------\u001b[0m",
      "\u001b[1;31mNameError\u001b[0m                                 Traceback (most recent call last)",
      "Cell \u001b[1;32mIn[68], line 1\u001b[0m\n\u001b[1;32m----> 1\u001b[0m rand(\u001b[38;5;241m3\u001b[39m,\u001b[38;5;241m2\u001b[39m)\n",
      "\u001b[1;31mNameError\u001b[0m: name 'rand' is not defined"
     ]
    }
   ],
   "source": [
    "rand(3,2)"
   ]
  },
  {
   "cell_type": "code",
   "execution_count": 70,
   "id": "00fb9d53-dfb7-429f-a3b5-6f877735d858",
   "metadata": {},
   "outputs": [
    {
     "ename": "NameError",
     "evalue": "name 'rand' is not defined",
     "output_type": "error",
     "traceback": [
      "\u001b[1;31m---------------------------------------------------------------------------\u001b[0m",
      "\u001b[1;31mNameError\u001b[0m                                 Traceback (most recent call last)",
      "Cell \u001b[1;32mIn[70], line 1\u001b[0m\n\u001b[1;32m----> 1\u001b[0m rand(\u001b[38;5;241m3\u001b[39m,\u001b[38;5;241m2\u001b[39m)\n\u001b[0;32m      2\u001b[0m ramndom\u001b[38;5;241m.\u001b[39mrand(\u001b[38;5;241m3\u001b[39m,\u001b[38;5;241m2\u001b[39m)\n",
      "\u001b[1;31mNameError\u001b[0m: name 'rand' is not defined"
     ]
    }
   ],
   "source": [
    "rand(3,2)\n",
    "ramndom.rand(3,2)"
   ]
  },
  {
   "cell_type": "code",
   "execution_count": 71,
   "id": "c41a5fb6-f338-4507-a91c-67a15350d935",
   "metadata": {},
   "outputs": [
    {
     "data": {
      "text/plain": [
       "array([0.62700748, 0.0781405 , 0.84432876, 0.07778817, 0.5723929 ])"
      ]
     },
     "execution_count": 71,
     "metadata": {},
     "output_type": "execute_result"
    }
   ],
   "source": [
    "np.random.rand(5)"
   ]
  },
  {
   "cell_type": "code",
   "execution_count": 72,
   "id": "d3e01332-444f-44eb-8320-091d112782cb",
   "metadata": {},
   "outputs": [
    {
     "ename": "AttributeError",
     "evalue": "module 'numpy' has no attribute 'rand'",
     "output_type": "error",
     "traceback": [
      "\u001b[1;31m---------------------------------------------------------------------------\u001b[0m",
      "\u001b[1;31mAttributeError\u001b[0m                            Traceback (most recent call last)",
      "Cell \u001b[1;32mIn[72], line 1\u001b[0m\n\u001b[1;32m----> 1\u001b[0m np\u001b[38;5;241m.\u001b[39mrand(\u001b[38;5;241m4\u001b[39m)\n",
      "File \u001b[1;32m~\\anaconda3\\Lib\\site-packages\\numpy\\__init__.py:333\u001b[0m, in \u001b[0;36m__getattr__\u001b[1;34m(attr)\u001b[0m\n\u001b[0;32m    330\u001b[0m     \u001b[38;5;124m\"\u001b[39m\u001b[38;5;124mRemoved in NumPy 1.25.0\u001b[39m\u001b[38;5;124m\"\u001b[39m\n\u001b[0;32m    331\u001b[0m     \u001b[38;5;28;01mraise\u001b[39;00m \u001b[38;5;167;01mRuntimeError\u001b[39;00m(\u001b[38;5;124m\"\u001b[39m\u001b[38;5;124mTester was removed in NumPy 1.25.\u001b[39m\u001b[38;5;124m\"\u001b[39m)\n\u001b[1;32m--> 333\u001b[0m \u001b[38;5;28;01mraise\u001b[39;00m \u001b[38;5;167;01mAttributeError\u001b[39;00m(\u001b[38;5;124m\"\u001b[39m\u001b[38;5;124mmodule \u001b[39m\u001b[38;5;132;01m{!r}\u001b[39;00m\u001b[38;5;124m has no attribute \u001b[39m\u001b[38;5;124m\"\u001b[39m\n\u001b[0;32m    334\u001b[0m                      \u001b[38;5;124m\"\u001b[39m\u001b[38;5;132;01m{!r}\u001b[39;00m\u001b[38;5;124m\"\u001b[39m\u001b[38;5;241m.\u001b[39mformat(\u001b[38;5;18m__name__\u001b[39m, attr))\n",
      "\u001b[1;31mAttributeError\u001b[0m: module 'numpy' has no attribute 'rand'"
     ]
    }
   ],
   "source": [
    "np.rand(4)"
   ]
  },
  {
   "cell_type": "code",
   "execution_count": 73,
   "id": "6ea35f21-2fbc-4daf-af7e-38940bb52cc7",
   "metadata": {},
   "outputs": [
    {
     "data": {
      "text/plain": [
       "array([[0.31506571, 0.46583461, 0.62898079, 0.96458266],\n",
       "       [0.9895049 , 0.41355013, 0.77952923, 0.50233159]])"
      ]
     },
     "execution_count": 73,
     "metadata": {},
     "output_type": "execute_result"
    }
   ],
   "source": [
    "np.random.rand(2,4)"
   ]
  },
  {
   "cell_type": "code",
   "execution_count": 74,
   "id": "4d874f85-7114-4f45-b0a5-3cdbaf84a0f4",
   "metadata": {},
   "outputs": [
    {
     "data": {
      "text/plain": [
       "2"
      ]
     },
     "execution_count": 74,
     "metadata": {},
     "output_type": "execute_result"
    }
   ],
   "source": [
    "np.random.randint(2,4)"
   ]
  },
  {
   "cell_type": "code",
   "execution_count": 75,
   "id": "40659e73-bbba-4b60-9969-b16a269af73d",
   "metadata": {},
   "outputs": [
    {
     "data": {
      "text/plain": [
       "0"
      ]
     },
     "execution_count": 75,
     "metadata": {},
     "output_type": "execute_result"
    }
   ],
   "source": [
    "np.random.randint(0,1)"
   ]
  },
  {
   "cell_type": "code",
   "execution_count": 77,
   "id": "226e3332-9950-4d7b-a4e0-1b7bf98aa282",
   "metadata": {},
   "outputs": [
    {
     "data": {
      "text/plain": [
       "16"
      ]
     },
     "execution_count": 77,
     "metadata": {},
     "output_type": "execute_result"
    }
   ],
   "source": [
    "np.random.randint(2,20)"
   ]
  },
  {
   "cell_type": "code",
   "execution_count": 78,
   "id": "da7d1403-ea41-4935-8085-59382b246ba8",
   "metadata": {},
   "outputs": [
    {
     "data": {
      "text/plain": [
       "array([19, 12, 15, 18, 11])"
      ]
     },
     "execution_count": 78,
     "metadata": {},
     "output_type": "execute_result"
    }
   ],
   "source": [
    "np.random.randint(10,20,5)"
   ]
  },
  {
   "cell_type": "code",
   "execution_count": 79,
   "id": "9c6589ed-4a00-4aeb-a587-b1f82e49c011",
   "metadata": {},
   "outputs": [
    {
     "data": {
      "text/plain": [
       "array([5, 3, 1, 5])"
      ]
     },
     "execution_count": 79,
     "metadata": {},
     "output_type": "execute_result"
    }
   ],
   "source": [
    "np.random.randint(1,6,4)"
   ]
  },
  {
   "cell_type": "code",
   "execution_count": 80,
   "id": "ad594d98-bf05-4e9c-a237-9faba1daacf8",
   "metadata": {},
   "outputs": [
    {
     "data": {
      "text/plain": [
       "array([0.10976799, 0.18475407, 0.19137044])"
      ]
     },
     "execution_count": 80,
     "metadata": {},
     "output_type": "execute_result"
    }
   ],
   "source": [
    "np.random.rand(3)"
   ]
  },
  {
   "cell_type": "code",
   "execution_count": 81,
   "id": "829fae3e-fd96-4f82-8652-085342b775a6",
   "metadata": {},
   "outputs": [
    {
     "ename": "ValueError",
     "evalue": "low >= high",
     "output_type": "error",
     "traceback": [
      "\u001b[1;31m---------------------------------------------------------------------------\u001b[0m",
      "\u001b[1;31mValueError\u001b[0m                                Traceback (most recent call last)",
      "Cell \u001b[1;32mIn[81], line 1\u001b[0m\n\u001b[1;32m----> 1\u001b[0m np\u001b[38;5;241m.\u001b[39mrandom\u001b[38;5;241m.\u001b[39mrandint(\u001b[38;5;241m30\u001b[39m,\u001b[38;5;241m20\u001b[39m,\u001b[38;5;241m10\u001b[39m)\n",
      "File \u001b[1;32mnumpy\\\\random\\\\mtrand.pyx:780\u001b[0m, in \u001b[0;36mnumpy.random.mtrand.RandomState.randint\u001b[1;34m()\u001b[0m\n",
      "File \u001b[1;32mnumpy\\\\random\\\\_bounded_integers.pyx:1425\u001b[0m, in \u001b[0;36mnumpy.random._bounded_integers._rand_int32\u001b[1;34m()\u001b[0m\n",
      "\u001b[1;31mValueError\u001b[0m: low >= high"
     ]
    }
   ],
   "source": [
    "np.random.randint(30,20,10)"
   ]
  },
  {
   "cell_type": "code",
   "execution_count": 82,
   "id": "a38c728e-fcf7-40cc-ad78-1d71cf19a516",
   "metadata": {},
   "outputs": [
    {
     "data": {
      "text/plain": [
       "array([-29, -27, -26,  14,   4,   8,  12,   3, -21, -25])"
      ]
     },
     "execution_count": 82,
     "metadata": {},
     "output_type": "execute_result"
    }
   ],
   "source": [
    "np.random.randint(-30,20,10)"
   ]
  },
  {
   "cell_type": "code",
   "execution_count": 83,
   "id": "cad99eae-9a28-4e62-a5b2-dc616491b383",
   "metadata": {},
   "outputs": [
    {
     "data": {
      "text/plain": [
       "array([24, 26, 26, 26, 26, 24, 28, 29, 24, 24])"
      ]
     },
     "execution_count": 83,
     "metadata": {},
     "output_type": "execute_result"
    }
   ],
   "source": [
    "np.random.randint(20,30,10)"
   ]
  },
  {
   "cell_type": "code",
   "execution_count": 84,
   "id": "bfb76963-e17f-48b4-9460-0adac35953bb",
   "metadata": {},
   "outputs": [
    {
     "data": {
      "text/plain": [
       "array([21, 22, 24, 23, 24, 23, 28, 27, 21, 22])"
      ]
     },
     "execution_count": 84,
     "metadata": {},
     "output_type": "execute_result"
    }
   ],
   "source": [
    "np.random.randint(20,30,10) "
   ]
  },
  {
   "cell_type": "code",
   "execution_count": 85,
   "id": "ec66a59b-cdc9-402b-8db8-c4e24d84638b",
   "metadata": {},
   "outputs": [
    {
     "data": {
      "text/plain": [
       "7"
      ]
     },
     "execution_count": 85,
     "metadata": {},
     "output_type": "execute_result"
    }
   ],
   "source": [
    "np.random.randint(5,9) "
   ]
  },
  {
   "cell_type": "code",
   "execution_count": 86,
   "id": "f1510e88-af56-40ae-8ff4-5a3b59b44e59",
   "metadata": {},
   "outputs": [
    {
     "data": {
      "text/plain": [
       "array([13, 10, 14])"
      ]
     },
     "execution_count": 86,
     "metadata": {},
     "output_type": "execute_result"
    }
   ],
   "source": [
    "np.random.randint(10,21,3)"
   ]
  },
  {
   "cell_type": "code",
   "execution_count": 87,
   "id": "5ea4f59b-d447-4812-96fc-510bd07a4949",
   "metadata": {},
   "outputs": [
    {
     "data": {
      "text/plain": [
       "array([[13, 28, 36, 28, 35, 26, 32, 17, 19, 17],\n",
       "       [12, 27, 33, 20, 27, 19, 33, 23, 15, 10],\n",
       "       [10, 15, 15, 22, 10, 20, 12, 25, 36, 17],\n",
       "       [17, 13, 17, 26, 20, 37, 24, 30, 20, 19],\n",
       "       [10, 27, 37, 22, 26, 20, 15, 36, 28, 18],\n",
       "       [13, 10, 15, 15, 39, 12, 16, 19, 36, 19],\n",
       "       [31, 27, 35, 27, 23, 32, 25, 31, 26, 11],\n",
       "       [10, 28, 12, 11, 39, 27, 36, 14, 14, 32],\n",
       "       [28, 25, 21, 28, 37, 34, 31, 37, 11, 24],\n",
       "       [21, 39, 20, 19, 25, 10, 20, 38, 22, 11]])"
      ]
     },
     "execution_count": 87,
     "metadata": {},
     "output_type": "execute_result"
    }
   ],
   "source": [
    "np.random.randint(10,40,(10,10)) "
   ]
  },
  {
   "cell_type": "code",
   "execution_count": 88,
   "id": "3a04b977-35c9-4afb-937a-53d9cb474e71",
   "metadata": {},
   "outputs": [
    {
     "data": {
      "text/plain": [
       "array([[31, 35, 47, 96, 47,  2, 58, 47, 97, 62,  4, 65],\n",
       "       [ 3,  4, 96, 61, 94, 19, 70, 31,  7, 27,  5, 29],\n",
       "       [90, 11, 59, 64,  3, 17, 60, 43, 37, 83, 52, 14],\n",
       "       [ 2, 65, 64, 71, 99, 18, 87, 28, 21, 87, 20, 54],\n",
       "       [89, 45,  8, 39, 48, 91, 51, 20, 86, 27,  8, 51],\n",
       "       [47, 96, 27, 52, 47,  9, 16, 77, 25, 17, 87, 39],\n",
       "       [16, 14, 42,  1, 64, 81, 39, 36, 80, 89, 30, 97],\n",
       "       [ 5, 91, 92, 49, 17, 75, 56, 75, 30, 12, 88, 66],\n",
       "       [94, 65, 28, 86, 90, 93, 71, 81, 86, 69, 52, 79],\n",
       "       [99, 46, 50, 96, 31, 29, 31, 67, 29,  7, 12, 55],\n",
       "       [38, 82,  6, 57, 43, 16, 89, 96, 29, 67, 75, 46],\n",
       "       [70, 96, 93, 82, 78, 34, 58, 54, 47, 43, 30, 24]])"
      ]
     },
     "execution_count": 88,
     "metadata": {},
     "output_type": "execute_result"
    }
   ],
   "source": [
    "np.random.randint(1,100,(12,12)) "
   ]
  },
  {
   "cell_type": "code",
   "execution_count": 89,
   "id": "f766af53-8b45-4c55-a813-52be4c89d452",
   "metadata": {},
   "outputs": [
    {
     "data": {
      "text/plain": [
       "array([[ 1,  2,  3,  4],\n",
       "       [ 5,  6,  7,  8],\n",
       "       [ 9, 10, 11, 12]])"
      ]
     },
     "execution_count": 89,
     "metadata": {},
     "output_type": "execute_result"
    }
   ],
   "source": [
    "np.arange(1,13).reshape(3,4)"
   ]
  },
  {
   "cell_type": "code",
   "execution_count": 90,
   "id": "f9461202-26ec-40f6-8822-8f535a879b1e",
   "metadata": {},
   "outputs": [
    {
     "data": {
      "text/plain": [
       "array([[ 1],\n",
       "       [ 2],\n",
       "       [ 3],\n",
       "       [ 4],\n",
       "       [ 5],\n",
       "       [ 6],\n",
       "       [ 7],\n",
       "       [ 8],\n",
       "       [ 9],\n",
       "       [10],\n",
       "       [11],\n",
       "       [12]])"
      ]
     },
     "execution_count": 90,
     "metadata": {},
     "output_type": "execute_result"
    }
   ],
   "source": [
    "np.arange(1,13).reshape(12,1)"
   ]
  },
  {
   "cell_type": "code",
   "execution_count": 91,
   "id": "7ca45d02-18ac-44aa-a593-8cb2bc7df30a",
   "metadata": {},
   "outputs": [
    {
     "data": {
      "text/plain": [
       "array([[18, 12, 12, 10],\n",
       "       [16, 10, 12, 11],\n",
       "       [19, 17, 15, 16],\n",
       "       [12, 16, 15, 19],\n",
       "       [15, 15, 17, 13]])"
      ]
     },
     "execution_count": 91,
     "metadata": {},
     "output_type": "execute_result"
    }
   ],
   "source": [
    "b = np.random.randint(10,20,(5,4))\n",
    "b"
   ]
  },
  {
   "cell_type": "code",
   "execution_count": 92,
   "id": "64ad47d1-ac4d-48c5-a726-88d30570f5ea",
   "metadata": {},
   "outputs": [
    {
     "data": {
      "text/plain": [
       "numpy.ndarray"
      ]
     },
     "execution_count": 92,
     "metadata": {},
     "output_type": "execute_result"
    }
   ],
   "source": [
    "type(b)"
   ]
  },
  {
   "cell_type": "code",
   "execution_count": 93,
   "id": "7efc4dce-6d7c-4564-a6df-85d5942e7ce8",
   "metadata": {},
   "outputs": [
    {
     "data": {
      "text/plain": [
       "array([[18, 12, 12, 10],\n",
       "       [16, 10, 12, 11],\n",
       "       [19, 17, 15, 16],\n",
       "       [12, 16, 15, 19],\n",
       "       [15, 15, 17, 13]])"
      ]
     },
     "execution_count": 93,
     "metadata": {},
     "output_type": "execute_result"
    }
   ],
   "source": [
    "b"
   ]
  },
  {
   "cell_type": "code",
   "execution_count": 94,
   "id": "c9b732ff-3b8c-4d85-bfd5-116c80f1407e",
   "metadata": {},
   "outputs": [
    {
     "data": {
      "text/plain": [
       "array([[18, 12, 12, 10],\n",
       "       [16, 10, 12, 11],\n",
       "       [19, 17, 15, 16],\n",
       "       [12, 16, 15, 19],\n",
       "       [15, 15, 17, 13]])"
      ]
     },
     "execution_count": 94,
     "metadata": {},
     "output_type": "execute_result"
    }
   ],
   "source": [
    "b[:]"
   ]
  },
  {
   "cell_type": "code",
   "execution_count": 95,
   "id": "7367574b-7163-4333-a385-90292791ac45",
   "metadata": {},
   "outputs": [
    {
     "data": {
      "text/plain": [
       "array([[16, 10, 12, 11],\n",
       "       [19, 17, 15, 16]])"
      ]
     },
     "execution_count": 95,
     "metadata": {},
     "output_type": "execute_result"
    }
   ],
   "source": [
    "b[1:3]"
   ]
  },
  {
   "cell_type": "code",
   "execution_count": 96,
   "id": "900df8a9-63eb-463a-be61-adee651ed25d",
   "metadata": {},
   "outputs": [
    {
     "data": {
      "text/plain": [
       "array([[18, 12, 12, 10],\n",
       "       [16, 10, 12, 11],\n",
       "       [19, 17, 15, 16],\n",
       "       [12, 16, 15, 19],\n",
       "       [15, 15, 17, 13]])"
      ]
     },
     "execution_count": 96,
     "metadata": {},
     "output_type": "execute_result"
    }
   ],
   "source": [
    "b"
   ]
  },
  {
   "cell_type": "code",
   "execution_count": 97,
   "id": "925bc582-6ec4-4c0b-a5e6-70a819e79938",
   "metadata": {},
   "outputs": [
    {
     "data": {
      "text/plain": [
       "12"
      ]
     },
     "execution_count": 97,
     "metadata": {},
     "output_type": "execute_result"
    }
   ],
   "source": [
    "b[1,2]"
   ]
  },
  {
   "cell_type": "code",
   "execution_count": 98,
   "id": "c76a1f23-279f-48bb-9e46-c06505c96e75",
   "metadata": {},
   "outputs": [
    {
     "data": {
      "text/plain": [
       "array([[18, 12, 12, 10],\n",
       "       [16, 10, 12, 11],\n",
       "       [19, 17, 15, 16],\n",
       "       [12, 16, 15, 19],\n",
       "       [15, 15, 17, 13]])"
      ]
     },
     "execution_count": 98,
     "metadata": {},
     "output_type": "execute_result"
    }
   ],
   "source": [
    "b"
   ]
  },
  {
   "cell_type": "code",
   "execution_count": 100,
   "id": "4dbc1081-cafb-4f6e-9d9d-e9bfa3033f04",
   "metadata": {},
   "outputs": [
    {
     "data": {
      "text/plain": [
       "11"
      ]
     },
     "execution_count": 100,
     "metadata": {},
     "output_type": "execute_result"
    }
   ],
   "source": [
    "b[1,3]"
   ]
  },
  {
   "cell_type": "code",
   "execution_count": 99,
   "id": "acc4d4a6-511c-4d24-a451-de7d75508964",
   "metadata": {},
   "outputs": [
    {
     "data": {
      "text/plain": [
       "11"
      ]
     },
     "execution_count": 99,
     "metadata": {},
     "output_type": "execute_result"
    }
   ],
   "source": [
    "b[1,3]"
   ]
  },
  {
   "cell_type": "code",
   "execution_count": 101,
   "id": "479bba98-ae65-4493-8497-674e844e6a9e",
   "metadata": {},
   "outputs": [
    {
     "data": {
      "text/plain": [
       "array([[18, 12, 12, 10],\n",
       "       [16, 10, 12, 11],\n",
       "       [19, 17, 15, 16],\n",
       "       [12, 16, 15, 19],\n",
       "       [15, 15, 17, 13]])"
      ]
     },
     "execution_count": 101,
     "metadata": {},
     "output_type": "execute_result"
    }
   ],
   "source": [
    "b"
   ]
  },
  {
   "cell_type": "code",
   "execution_count": 102,
   "id": "18458eea-3353-47cb-ba16-cdac3a67a00c",
   "metadata": {},
   "outputs": [
    {
     "data": {
      "text/plain": [
       "array([[19, 17, 15, 16]])"
      ]
     },
     "execution_count": 102,
     "metadata": {},
     "output_type": "execute_result"
    }
   ],
   "source": [
    "b[2:3]"
   ]
  },
  {
   "cell_type": "code",
   "execution_count": 103,
   "id": "953424fb-e6cb-4047-8561-55ea2175073f",
   "metadata": {},
   "outputs": [
    {
     "data": {
      "text/plain": [
       "array([[18, 12, 12, 10],\n",
       "       [16, 10, 12, 11],\n",
       "       [19, 17, 15, 16],\n",
       "       [12, 16, 15, 19],\n",
       "       [15, 15, 17, 13]])"
      ]
     },
     "execution_count": 103,
     "metadata": {},
     "output_type": "execute_result"
    }
   ],
   "source": [
    "b"
   ]
  },
  {
   "cell_type": "code",
   "execution_count": 104,
   "id": "872a054d-9970-419f-8b8d-98faf9a9c880",
   "metadata": {},
   "outputs": [
    {
     "data": {
      "text/plain": [
       "array([[18, 12, 12, 10],\n",
       "       [16, 10, 12, 11],\n",
       "       [19, 17, 15, 16]])"
      ]
     },
     "execution_count": 104,
     "metadata": {},
     "output_type": "execute_result"
    }
   ],
   "source": [
    "b[0:-2]"
   ]
  },
  {
   "cell_type": "code",
   "execution_count": 105,
   "id": "15278840-7f43-454d-90f8-910f51d8c077",
   "metadata": {},
   "outputs": [
    {
     "data": {
      "text/plain": [
       "array([[18, 12, 12, 10],\n",
       "       [16, 10, 12, 11],\n",
       "       [19, 17, 15, 16],\n",
       "       [12, 16, 15, 19],\n",
       "       [15, 15, 17, 13]])"
      ]
     },
     "execution_count": 105,
     "metadata": {},
     "output_type": "execute_result"
    }
   ],
   "source": [
    "b"
   ]
  },
  {
   "cell_type": "code",
   "execution_count": 106,
   "id": "8796b2bf-b11d-44ed-a473-97d1a4b28f3f",
   "metadata": {},
   "outputs": [
    {
     "data": {
      "text/plain": [
       "12"
      ]
     },
     "execution_count": 106,
     "metadata": {},
     "output_type": "execute_result"
    }
   ],
   "source": [
    "b[0,2]"
   ]
  },
  {
   "cell_type": "code",
   "execution_count": 107,
   "id": "4785ff03-8fb5-4f2c-8210-c5d2813c23ec",
   "metadata": {},
   "outputs": [
    {
     "data": {
      "text/plain": [
       "array([[18, 12, 12, 10],\n",
       "       [16, 10, 12, 11],\n",
       "       [19, 17, 15, 16],\n",
       "       [12, 16, 15, 19],\n",
       "       [15, 15, 17, 13]])"
      ]
     },
     "execution_count": 107,
     "metadata": {},
     "output_type": "execute_result"
    }
   ],
   "source": [
    "b"
   ]
  },
  {
   "cell_type": "code",
   "execution_count": 108,
   "id": "4bff82a9-9702-4a5a-a0a9-f55eaade7e84",
   "metadata": {},
   "outputs": [
    {
     "data": {
      "text/plain": [
       "12"
      ]
     },
     "execution_count": 108,
     "metadata": {},
     "output_type": "execute_result"
    }
   ],
   "source": [
    "b[-5,-3] "
   ]
  },
  {
   "cell_type": "code",
   "execution_count": 109,
   "id": "5d29b901-c617-4cf3-b326-7de33390372b",
   "metadata": {},
   "outputs": [
    {
     "data": {
      "text/plain": [
       "array([[18, 12, 12, 10],\n",
       "       [16, 10, 12, 11],\n",
       "       [19, 17, 15, 16],\n",
       "       [12, 16, 15, 19],\n",
       "       [15, 15, 17, 13]])"
      ]
     },
     "execution_count": 109,
     "metadata": {},
     "output_type": "execute_result"
    }
   ],
   "source": [
    "b"
   ]
  },
  {
   "cell_type": "code",
   "execution_count": 110,
   "id": "b8c208f0-4ddd-4f94-8be8-1691218382cf",
   "metadata": {},
   "outputs": [
    {
     "data": {
      "text/plain": [
       "12"
      ]
     },
     "execution_count": 110,
     "metadata": {},
     "output_type": "execute_result"
    }
   ],
   "source": [
    "b[-4,2] "
   ]
  },
  {
   "cell_type": "code",
   "execution_count": 111,
   "id": "552a3963-c1e4-4752-9393-839400c7fbd9",
   "metadata": {},
   "outputs": [
    {
     "data": {
      "text/plain": [
       "array([[16, 14, 17, 17],\n",
       "       [16, 19, 18, 15],\n",
       "       [18, 17, 11, 11],\n",
       "       [13, 19, 13, 19]])"
      ]
     },
     "execution_count": 111,
     "metadata": {},
     "output_type": "execute_result"
    }
   ],
   "source": [
    "np.random.randint(10,20,(4,4))"
   ]
  },
  {
   "cell_type": "code",
   "execution_count": null,
   "id": "8cc2599c-6b8b-41aa-8f86-9dc2b3110d73",
   "metadata": {},
   "outputs": [],
   "source": []
  }
 ],
 "metadata": {
  "kernelspec": {
   "display_name": "Python [conda env:base] *",
   "language": "python",
   "name": "conda-base-py"
  },
  "language_info": {
   "codemirror_mode": {
    "name": "ipython",
    "version": 3
   },
   "file_extension": ".py",
   "mimetype": "text/x-python",
   "name": "python",
   "nbconvert_exporter": "python",
   "pygments_lexer": "ipython3",
   "version": "3.12.7"
  }
 },
 "nbformat": 4,
 "nbformat_minor": 5
}
